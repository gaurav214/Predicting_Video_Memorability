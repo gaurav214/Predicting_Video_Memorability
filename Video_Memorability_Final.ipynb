{
 "cells": [
  {
   "cell_type": "markdown",
   "metadata": {},
   "source": [
    "# Business Understanding: \n",
    "\n",
    "**This notebook is dedicated to find an optimum solution for the MediaEval Video Memorability task. Our objective is to find the short-term and long-term memorability score for videos using semantic features like captions and video features like HMP and C3D.\n",
    "This is done as part of Machine Learning assignment CA684. Our appraoch for this task will be to explore diffent features using multiple machine learning models and then improving the best model based on our results. Evaluation will be done using Spearman correlation coefficient.**"
   ]
  },
  {
   "cell_type": "markdown",
   "metadata": {},
   "source": [
    "# Table of Contents\n",
    "\n",
    "     1. Importing Dependencies\n",
    "     2. Defining functions for some repetive tasks\n",
    "     3. Exploring models with Semantic Captions\n",
    "         3.1 RandomForest with 10 estimators\n",
    "         3.2 RandomForest with 100 estimators\n",
    "         3.3 SVR\n",
    "         3.4 Baseline Network\n",
    "     4. Exploring Captions with weights\n",
    "         4.1 RandomForest with 10 estimators\n",
    "         4.2 RandomForest with 100 estimators\n",
    "         4.3 SVR\n",
    "         4.4 Baseline Network\n",
    "     5. HMP & Captions\n",
    "         5.1 RandomForest with 10 estimators\n",
    "         5.2 RandomForest with 100 estimators\n",
    "         5.3 SVR\n",
    "         5.4 Baseline Network\n",
    "     6. C3D & Captions\n",
    "         6.1 RandomForest with 10 estimators\n",
    "         6.2 RandomForest with 100 estimators\n",
    "         6.3 SVR\n",
    "         6.4 Baseline Network\n",
    "     7. Improving Best Model\n",
    "         7.1 Cross Validation\n",
    "         7.2 Time-based Learning Rate schedule and Decay\n",
    "         7.3 Drop-based Learning Rate schedule\n",
    "     8. Saving the model\n",
    "     9. Creating Final submission\n",
    " "
   ]
  },
  {
   "cell_type": "markdown",
   "metadata": {},
   "source": [
    "## 1. Importing Dependencies"
   ]
  },
  {
   "cell_type": "code",
   "execution_count": 175,
   "metadata": {
    "colab": {},
    "colab_type": "code",
    "id": "J_c0r9783vk7"
   },
   "outputs": [],
   "source": [
    "import numpy as np\n",
    "import pandas as pd\n",
    "import matplotlib.pyplot as plt\n",
    "import glob\n",
    "import os"
   ]
  },
  {
   "cell_type": "code",
   "execution_count": 2,
   "metadata": {
    "colab": {
     "base_uri": "https://localhost:8080/",
     "height": 50
    },
    "colab_type": "code",
    "executionInfo": {
     "elapsed": 1503,
     "status": "ok",
     "timestamp": 1586565606233,
     "user": {
      "displayName": "Gaurav Negi",
      "photoUrl": "",
      "userId": "08053105973417055083"
     },
     "user_tz": -330
    },
    "id": "ZzDTX7Fl5zMr",
    "outputId": "adfbc584-5ce5-480a-e7e7-6b3f6c651c1d"
   },
   "outputs": [
    {
     "name": "stderr",
     "output_type": "stream",
     "text": [
      "[nltk_data] Downloading package stopwords to\n",
      "[nltk_data]     C:\\Users\\Gaurav\\AppData\\Roaming\\nltk_data...\n",
      "[nltk_data]   Package stopwords is already up-to-date!\n"
     ]
    }
   ],
   "source": [
    "import re\n",
    "import nltk\n",
    "nltk.download('stopwords')\n",
    "from nltk.corpus import stopwords\n",
    "#from nltk.stem.porter import PorterStemmer"
   ]
  },
  {
   "cell_type": "code",
   "execution_count": 3,
   "metadata": {
    "colab": {},
    "colab_type": "code",
    "id": "JI-3yqLc6gEi"
   },
   "outputs": [],
   "source": [
    "from sklearn.model_selection import train_test_split"
   ]
  },
  {
   "cell_type": "code",
   "execution_count": 4,
   "metadata": {
    "colab": {
     "base_uri": "https://localhost:8080/",
     "height": 502
    },
    "colab_type": "code",
    "executionInfo": {
     "elapsed": 1841,
     "status": "ok",
     "timestamp": 1586565608474,
     "user": {
      "displayName": "Gaurav Negi",
      "photoUrl": "",
      "userId": "08053105973417055083"
     },
     "user_tz": -330
    },
    "id": "R1ftv2i1_VAw",
    "outputId": "c7a1a761-c638-4585-cfc4-c1c8de520f59"
   },
   "outputs": [
    {
     "name": "stderr",
     "output_type": "stream",
     "text": [
      "Using TensorFlow backend.\n",
      "C:\\ProgramData\\Anaconda3\\lib\\site-packages\\tensorflow\\python\\framework\\dtypes.py:516: FutureWarning: Passing (type, 1) or '1type' as a synonym of type is deprecated; in a future version of numpy, it will be understood as (type, (1,)) / '(1,)type'.\n",
      "  _np_qint8 = np.dtype([(\"qint8\", np.int8, 1)])\n",
      "C:\\ProgramData\\Anaconda3\\lib\\site-packages\\tensorflow\\python\\framework\\dtypes.py:517: FutureWarning: Passing (type, 1) or '1type' as a synonym of type is deprecated; in a future version of numpy, it will be understood as (type, (1,)) / '(1,)type'.\n",
      "  _np_quint8 = np.dtype([(\"quint8\", np.uint8, 1)])\n",
      "C:\\ProgramData\\Anaconda3\\lib\\site-packages\\tensorflow\\python\\framework\\dtypes.py:518: FutureWarning: Passing (type, 1) or '1type' as a synonym of type is deprecated; in a future version of numpy, it will be understood as (type, (1,)) / '(1,)type'.\n",
      "  _np_qint16 = np.dtype([(\"qint16\", np.int16, 1)])\n",
      "C:\\ProgramData\\Anaconda3\\lib\\site-packages\\tensorflow\\python\\framework\\dtypes.py:519: FutureWarning: Passing (type, 1) or '1type' as a synonym of type is deprecated; in a future version of numpy, it will be understood as (type, (1,)) / '(1,)type'.\n",
      "  _np_quint16 = np.dtype([(\"quint16\", np.uint16, 1)])\n",
      "C:\\ProgramData\\Anaconda3\\lib\\site-packages\\tensorflow\\python\\framework\\dtypes.py:520: FutureWarning: Passing (type, 1) or '1type' as a synonym of type is deprecated; in a future version of numpy, it will be understood as (type, (1,)) / '(1,)type'.\n",
      "  _np_qint32 = np.dtype([(\"qint32\", np.int32, 1)])\n",
      "C:\\ProgramData\\Anaconda3\\lib\\site-packages\\tensorflow\\python\\framework\\dtypes.py:525: FutureWarning: Passing (type, 1) or '1type' as a synonym of type is deprecated; in a future version of numpy, it will be understood as (type, (1,)) / '(1,)type'.\n",
      "  np_resource = np.dtype([(\"resource\", np.ubyte, 1)])\n",
      "C:\\ProgramData\\Anaconda3\\lib\\site-packages\\tensorboard\\compat\\tensorflow_stub\\dtypes.py:541: FutureWarning: Passing (type, 1) or '1type' as a synonym of type is deprecated; in a future version of numpy, it will be understood as (type, (1,)) / '(1,)type'.\n",
      "  _np_qint8 = np.dtype([(\"qint8\", np.int8, 1)])\n",
      "C:\\ProgramData\\Anaconda3\\lib\\site-packages\\tensorboard\\compat\\tensorflow_stub\\dtypes.py:542: FutureWarning: Passing (type, 1) or '1type' as a synonym of type is deprecated; in a future version of numpy, it will be understood as (type, (1,)) / '(1,)type'.\n",
      "  _np_quint8 = np.dtype([(\"quint8\", np.uint8, 1)])\n",
      "C:\\ProgramData\\Anaconda3\\lib\\site-packages\\tensorboard\\compat\\tensorflow_stub\\dtypes.py:543: FutureWarning: Passing (type, 1) or '1type' as a synonym of type is deprecated; in a future version of numpy, it will be understood as (type, (1,)) / '(1,)type'.\n",
      "  _np_qint16 = np.dtype([(\"qint16\", np.int16, 1)])\n",
      "C:\\ProgramData\\Anaconda3\\lib\\site-packages\\tensorboard\\compat\\tensorflow_stub\\dtypes.py:544: FutureWarning: Passing (type, 1) or '1type' as a synonym of type is deprecated; in a future version of numpy, it will be understood as (type, (1,)) / '(1,)type'.\n",
      "  _np_quint16 = np.dtype([(\"quint16\", np.uint16, 1)])\n",
      "C:\\ProgramData\\Anaconda3\\lib\\site-packages\\tensorboard\\compat\\tensorflow_stub\\dtypes.py:545: FutureWarning: Passing (type, 1) or '1type' as a synonym of type is deprecated; in a future version of numpy, it will be understood as (type, (1,)) / '(1,)type'.\n",
      "  _np_qint32 = np.dtype([(\"qint32\", np.int32, 1)])\n",
      "C:\\ProgramData\\Anaconda3\\lib\\site-packages\\tensorboard\\compat\\tensorflow_stub\\dtypes.py:550: FutureWarning: Passing (type, 1) or '1type' as a synonym of type is deprecated; in a future version of numpy, it will be understood as (type, (1,)) / '(1,)type'.\n",
      "  np_resource = np.dtype([(\"resource\", np.ubyte, 1)])\n"
     ]
    }
   ],
   "source": [
    "from keras.models import Sequential\n",
    "from keras.layers import Dense\n",
    "\n",
    "from keras.wrappers.scikit_learn import KerasRegressor\n",
    "from sklearn.model_selection import StratifiedKFold, KFold\n",
    "from sklearn.model_selection import cross_val_score\n",
    "import numpy\n",
    "from keras import regularizers\n",
    "from keras import layers"
   ]
  },
  {
   "cell_type": "code",
   "execution_count": 5,
   "metadata": {
    "colab": {},
    "colab_type": "code",
    "id": "fvuTrEYp_YBR"
   },
   "outputs": [],
   "source": [
    "# for reproducability\n",
    "from numpy.random import seed\n",
    "seed(1)\n",
    "from tensorflow import set_random_seed\n",
    "set_random_seed(1)"
   ]
  },
  {
   "cell_type": "code",
   "execution_count": 6,
   "metadata": {
    "colab": {},
    "colab_type": "code",
    "id": "DyqZF6IjDosa"
   },
   "outputs": [],
   "source": [
    "from keras.constraints import maxnorm\n",
    "from keras.optimizers import SGD\n",
    "from sklearn.model_selection import GridSearchCV"
   ]
  },
  {
   "cell_type": "code",
   "execution_count": 7,
   "metadata": {},
   "outputs": [],
   "source": [
    "from sklearn.feature_extraction.text import TfidfVectorizer"
   ]
  },
  {
   "cell_type": "code",
   "execution_count": 8,
   "metadata": {
    "colab": {
     "base_uri": "https://localhost:8080/",
     "height": 50
    },
    "colab_type": "code",
    "executionInfo": {
     "elapsed": 454,
     "status": "ok",
     "timestamp": 1586565612066,
     "user": {
      "displayName": "Gaurav Negi",
      "photoUrl": "",
      "userId": "08053105973417055083"
     },
     "user_tz": -330
    },
    "id": "O4W-aQSU3w3H",
    "outputId": "87711676-9683-400b-ffb8-16df93e752c2"
   },
   "outputs": [],
   "source": [
    "#from google.colab import drive\n",
    "#drive.mount('/gdrive')\n",
    "#%cd /gdrive"
   ]
  },
  {
   "cell_type": "markdown",
   "metadata": {
    "colab_type": "text",
    "id": "fFuKuiwc345A"
   },
   "source": [
    "## 2. Defining functions for some repetive tasks"
   ]
  },
  {
   "cell_type": "code",
   "execution_count": 9,
   "metadata": {
    "colab": {},
    "colab_type": "code",
    "id": "a7EIUZJw3w53"
   },
   "outputs": [],
   "source": [
    "def Get_score(Y_pred,Y_true):\n",
    "    '''Calculate the Spearmann\"s correlation coefficient'''\n",
    "    Y_pred = np.squeeze(Y_pred)\n",
    "    Y_true = np.squeeze(Y_true)\n",
    "    if Y_pred.shape != Y_true.shape:\n",
    "        print('Input shapes don\\'t match!')\n",
    "    else:\n",
    "        if len(Y_pred.shape) == 1:\n",
    "            Res = pd.DataFrame({'Y_true':Y_true,'Y_pred':Y_pred})\n",
    "            score_mat = Res[['Y_true','Y_pred']].corr(method='spearman',min_periods=1)\n",
    "            print('The Spearman\\'s correlation coefficient is: %.3f' % score_mat.iloc[1][0])\n",
    "        else:\n",
    "            for ii in range(Y_pred.shape[1]):\n",
    "                Get_score(Y_pred[:,ii],Y_true[:,ii])"
   ]
  },
  {
   "cell_type": "code",
   "execution_count": 10,
   "metadata": {
    "colab": {},
    "colab_type": "code",
    "id": "LVfk96-tW-aR"
   },
   "outputs": [],
   "source": [
    "def read_HMP(fname):\n",
    "    \"\"\"Scan HMP(Histogram of Motion Patterns) features from file\"\"\"\n",
    "    with open(fname) as f:\n",
    "        for line in f:\n",
    "            pairs=line.split()\n",
    "            HMP_temp = { int(p.split(':')[0]) : float(p.split(':')[1]) for p in pairs}\n",
    "    # there are 6075 bins, fill zeros\n",
    "    HMP = np.zeros(6075)\n",
    "    for idx in HMP_temp.keys():\n",
    "        HMP[idx-1] = HMP_temp[idx]            \n",
    "    return HMP"
   ]
  },
  {
   "cell_type": "code",
   "execution_count": 11,
   "metadata": {
    "colab": {},
    "colab_type": "code",
    "id": "FOFt3znK3w8q"
   },
   "outputs": [],
   "source": [
    "def get_data():\n",
    "    '''\n",
    "      Get data for dev set\n",
    "    '''\n",
    "    train_ground_truth = pd.read_csv(r'CA684_Assignment\\Dev-set\\ground-truth.csv')\n",
    "    train_ground_truth.drop(['nb_short-term_annotations', 'nb_long-term_annotations'], axis=1, inplace=True)\n",
    "    train_captions = pd.read_csv('CA684_Assignment\\Dev-set\\dev-set_video-captions.txt',delimiter='\\t',header= None,names=('video','Captions'))\n",
    "\n",
    "    return train_ground_truth, train_captions\n"
   ]
  },
  {
   "cell_type": "code",
   "execution_count": 12,
   "metadata": {
    "colab": {},
    "colab_type": "code",
    "id": "ACd4O1TA3w_e"
   },
   "outputs": [],
   "source": [
    "def clean_weigthed_corpus( df):\n",
    "    '''\n",
    "    Removes special characters, stopwords and create a bag of word model\n",
    "    Assigns cumulative weights for certain words\n",
    "    '''\n",
    "    corpus = []\n",
    "    weights = []\n",
    "    for i in range(0, 6000):\n",
    "        local_weight = 0\n",
    "        caption = re.sub('[^a-zA-Z]', ' ', df['Captions'][i])\n",
    "        caption = caption.lower()\n",
    "        caption = caption.split()\n",
    "        caption = [word for word in caption if not word in set(stopwords.words('english'))]\n",
    "        for word in caption:\n",
    "            if(word in set(weights_to_certain_words.keys())):\n",
    "                    local_weight = local_weight + weights_to_certain_words[word]\n",
    "        weights.append(local_weight)\n",
    "        caption = ' '.join(caption)\n",
    "        corpus.append(caption)\n",
    "\n",
    "    return corpus, weights"
   ]
  },
  {
   "cell_type": "code",
   "execution_count": 13,
   "metadata": {
    "colab": {},
    "colab_type": "code",
    "id": "lbinw9Xw56bi"
   },
   "outputs": [],
   "source": [
    "def clean_corpus(df):\n",
    "    '''\n",
    "    Cleans the captions and create a bag of word model\n",
    "    '''\n",
    "    corpus = []\n",
    "    for i in range(0, 6000):\n",
    "        caption = re.sub('[^a-zA-Z]', ' ', df['Captions'][i])\n",
    "        caption = caption.lower()\n",
    "        caption = caption.split()\n",
    "        caption = [word for word in caption if not word in set(stopwords.words('english'))]\n",
    "        caption = ' '.join(caption)\n",
    "        corpus.append(caption)\n",
    "    return corpus"
   ]
  },
  {
   "cell_type": "code",
   "execution_count": 14,
   "metadata": {
    "colab": {},
    "colab_type": "code",
    "id": "xWngTZsU3xCV"
   },
   "outputs": [],
   "source": [
    "def baseline_model(n_col):\n",
    "    '''\n",
    "    Creating a sequential model for neural network\n",
    "    '''\n",
    "    model = Sequential()\n",
    "    model.add(layers.Dropout(0.3, input_shape=(n_col,)))\n",
    "    model.add(layers.Dense(10, activation='selu', kernel_regularizer=regularizers.l2(0.001),\n",
    "                         kernel_initializer='he_normal'))\n",
    "    model.add(layers.Dense(2, activation='sigmoid')) \n",
    "    model.compile(optimizer='adadelta', loss='mse', metrics=['accuracy']) \n",
    " \n",
    "    return model"
   ]
  },
  {
   "cell_type": "code",
   "execution_count": 53,
   "metadata": {
    "colab": {},
    "colab_type": "code",
    "id": "7QbIQFZ33xEx"
   },
   "outputs": [],
   "source": [
    "def visualize(loss, val_loss):\n",
    "    '''\n",
    "    Plots a graph for training and validation loss and accuracy\n",
    "    '''\n",
    "    epochs = range(1,len(loss)+1)\n",
    "\n",
    "    plt.figure()\n",
    "    plt.plot(epochs,loss,'rv',label='Training loss')\n",
    "    plt.plot(epochs,val_loss,'g',label='Validation loss')\n",
    "    plt.title('Training and Validation loss')\n",
    "    plt.xlabel('Epochs')\n",
    "    plt.ylabel('Loss')\n",
    "    plt.legend()\n",
    "    plt.show()"
   ]
  },
  {
   "cell_type": "code",
   "execution_count": null,
   "metadata": {
    "colab": {},
    "colab_type": "code",
    "id": "X_j0jSuG5IYv"
   },
   "outputs": [],
   "source": []
  },
  {
   "cell_type": "markdown",
   "metadata": {
    "colab_type": "text",
    "id": "nJUDFea65a63"
   },
   "source": [
    "## 3. Exploring models with Semantic Captions:\n",
    "Starting with Captions first as based on the previous work, captions have proven to be one the best features for this problem.\n",
    "My approach will be to first clean the captions and then use tfidf vectorizer to create a feature vector which will be used as our training dataset. "
   ]
  },
  {
   "cell_type": "code",
   "execution_count": 16,
   "metadata": {
    "colab": {},
    "colab_type": "code",
    "id": "RVw2cVJr5Ibr"
   },
   "outputs": [],
   "source": [
    "df,  captions_features= get_data()"
   ]
  },
  {
   "cell_type": "code",
   "execution_count": 17,
   "metadata": {
    "colab": {},
    "colab_type": "code",
    "id": "hvEFHsS85Ieu"
   },
   "outputs": [],
   "source": [
    "df['video'] = df['video'].apply(lambda x : x.split('.')[0])"
   ]
  },
  {
   "cell_type": "code",
   "execution_count": 18,
   "metadata": {
    "colab": {
     "base_uri": "https://localhost:8080/",
     "height": 195
    },
    "colab_type": "code",
    "executionInfo": {
     "elapsed": 499,
     "status": "ok",
     "timestamp": 1586565636048,
     "user": {
      "displayName": "Gaurav Negi",
      "photoUrl": "",
      "userId": "08053105973417055083"
     },
     "user_tz": -330
    },
    "id": "wpQek3-25Iho",
    "outputId": "80618da5-2cf7-491f-c664-656ef42cc816"
   },
   "outputs": [
    {
     "data": {
      "text/html": [
       "<div>\n",
       "<style scoped>\n",
       "    .dataframe tbody tr th:only-of-type {\n",
       "        vertical-align: middle;\n",
       "    }\n",
       "\n",
       "    .dataframe tbody tr th {\n",
       "        vertical-align: top;\n",
       "    }\n",
       "\n",
       "    .dataframe thead th {\n",
       "        text-align: right;\n",
       "    }\n",
       "</style>\n",
       "<table border=\"1\" class=\"dataframe\">\n",
       "  <thead>\n",
       "    <tr style=\"text-align: right;\">\n",
       "      <th></th>\n",
       "      <th>video</th>\n",
       "      <th>short-term_memorability</th>\n",
       "      <th>long-term_memorability</th>\n",
       "    </tr>\n",
       "  </thead>\n",
       "  <tbody>\n",
       "    <tr>\n",
       "      <th>0</th>\n",
       "      <td>video3</td>\n",
       "      <td>0.924</td>\n",
       "      <td>0.846</td>\n",
       "    </tr>\n",
       "    <tr>\n",
       "      <th>1</th>\n",
       "      <td>video4</td>\n",
       "      <td>0.923</td>\n",
       "      <td>0.667</td>\n",
       "    </tr>\n",
       "    <tr>\n",
       "      <th>2</th>\n",
       "      <td>video6</td>\n",
       "      <td>0.863</td>\n",
       "      <td>0.700</td>\n",
       "    </tr>\n",
       "    <tr>\n",
       "      <th>3</th>\n",
       "      <td>video8</td>\n",
       "      <td>0.922</td>\n",
       "      <td>0.818</td>\n",
       "    </tr>\n",
       "    <tr>\n",
       "      <th>4</th>\n",
       "      <td>video10</td>\n",
       "      <td>0.950</td>\n",
       "      <td>0.900</td>\n",
       "    </tr>\n",
       "  </tbody>\n",
       "</table>\n",
       "</div>"
      ],
      "text/plain": [
       "     video  short-term_memorability  long-term_memorability\n",
       "0   video3                    0.924                   0.846\n",
       "1   video4                    0.923                   0.667\n",
       "2   video6                    0.863                   0.700\n",
       "3   video8                    0.922                   0.818\n",
       "4  video10                    0.950                   0.900"
      ]
     },
     "execution_count": 18,
     "metadata": {},
     "output_type": "execute_result"
    }
   ],
   "source": [
    "df.head()"
   ]
  },
  {
   "cell_type": "code",
   "execution_count": 19,
   "metadata": {
    "colab": {
     "base_uri": "https://localhost:8080/",
     "height": 195
    },
    "colab_type": "code",
    "executionInfo": {
     "elapsed": 507,
     "status": "ok",
     "timestamp": 1586565638148,
     "user": {
      "displayName": "Gaurav Negi",
      "photoUrl": "",
      "userId": "08053105973417055083"
     },
     "user_tz": -330
    },
    "id": "-pUSvjMD5Ili",
    "outputId": "77156c53-5f13-4c74-e75e-2d51c7cb397d"
   },
   "outputs": [
    {
     "data": {
      "text/html": [
       "<div>\n",
       "<style scoped>\n",
       "    .dataframe tbody tr th:only-of-type {\n",
       "        vertical-align: middle;\n",
       "    }\n",
       "\n",
       "    .dataframe tbody tr th {\n",
       "        vertical-align: top;\n",
       "    }\n",
       "\n",
       "    .dataframe thead th {\n",
       "        text-align: right;\n",
       "    }\n",
       "</style>\n",
       "<table border=\"1\" class=\"dataframe\">\n",
       "  <thead>\n",
       "    <tr style=\"text-align: right;\">\n",
       "      <th></th>\n",
       "      <th>video</th>\n",
       "      <th>Captions</th>\n",
       "    </tr>\n",
       "  </thead>\n",
       "  <tbody>\n",
       "    <tr>\n",
       "      <th>0</th>\n",
       "      <td>video3</td>\n",
       "      <td>blonde-woman-is-massaged-tilt-down</td>\n",
       "    </tr>\n",
       "    <tr>\n",
       "      <th>1</th>\n",
       "      <td>video4</td>\n",
       "      <td>roulette-table-spinning-with-ball-in-closeup-shot</td>\n",
       "    </tr>\n",
       "    <tr>\n",
       "      <th>2</th>\n",
       "      <td>video6</td>\n",
       "      <td>khr-gangsters</td>\n",
       "    </tr>\n",
       "    <tr>\n",
       "      <th>3</th>\n",
       "      <td>video8</td>\n",
       "      <td>medical-helicopter-hovers-at-airport</td>\n",
       "    </tr>\n",
       "    <tr>\n",
       "      <th>4</th>\n",
       "      <td>video10</td>\n",
       "      <td>couple-relaxing-on-picnic-crane-shot</td>\n",
       "    </tr>\n",
       "  </tbody>\n",
       "</table>\n",
       "</div>"
      ],
      "text/plain": [
       "     video                                           Captions\n",
       "0   video3                 blonde-woman-is-massaged-tilt-down\n",
       "1   video4  roulette-table-spinning-with-ball-in-closeup-shot\n",
       "2   video6                                      khr-gangsters\n",
       "3   video8               medical-helicopter-hovers-at-airport\n",
       "4  video10               couple-relaxing-on-picnic-crane-shot"
      ]
     },
     "execution_count": 19,
     "metadata": {},
     "output_type": "execute_result"
    }
   ],
   "source": [
    "captions_features['video'] = captions_features['video'].apply(lambda x : x.split('.')[0])\n",
    "captions_features.head()"
   ]
  },
  {
   "cell_type": "code",
   "execution_count": 20,
   "metadata": {
    "colab": {},
    "colab_type": "code",
    "id": "_mRiqTjR5IpP"
   },
   "outputs": [],
   "source": [
    "for line in df:\n",
    "    df['Captions'] = captions_features['Captions']"
   ]
  },
  {
   "cell_type": "code",
   "execution_count": 21,
   "metadata": {
    "colab": {},
    "colab_type": "code",
    "id": "a5l7qs1W5tvc"
   },
   "outputs": [],
   "source": [
    "corpus = clean_corpus(df)"
   ]
  },
  {
   "cell_type": "code",
   "execution_count": 22,
   "metadata": {
    "colab": {
     "base_uri": "https://localhost:8080/",
     "height": 34
    },
    "colab_type": "code",
    "executionInfo": {
     "elapsed": 5634,
     "status": "ok",
     "timestamp": 1586565646787,
     "user": {
      "displayName": "Gaurav Negi",
      "photoUrl": "",
      "userId": "08053105973417055083"
     },
     "user_tz": -330
    },
    "id": "rWf53pIR6-6f",
    "outputId": "9118e554-0abe-47a8-921f-76a8e29d489b"
   },
   "outputs": [
    {
     "data": {
      "text/plain": [
       "6000"
      ]
     },
     "execution_count": 22,
     "metadata": {},
     "output_type": "execute_result"
    }
   ],
   "source": [
    "len(corpus)"
   ]
  },
  {
   "cell_type": "code",
   "execution_count": 23,
   "metadata": {
    "colab": {},
    "colab_type": "code",
    "id": "teDacLrh6aLc"
   },
   "outputs": [],
   "source": [
    "tf_cap = TfidfVectorizer()"
   ]
  },
  {
   "cell_type": "code",
   "execution_count": 24,
   "metadata": {
    "colab": {},
    "colab_type": "code",
    "id": "VdZTueqP5tyS"
   },
   "outputs": [],
   "source": [
    "X = tf_cap.fit_transform(corpus).toarray()\n",
    "Y = df.iloc[:, 1:3].values"
   ]
  },
  {
   "cell_type": "code",
   "execution_count": 25,
   "metadata": {
    "colab": {},
    "colab_type": "code",
    "id": "JR_e1eQT5t1D"
   },
   "outputs": [],
   "source": [
    "X_train, X_test, Y_train, Y_test = train_test_split(X, Y, test_size = 0.20, random_state=42)"
   ]
  },
  {
   "cell_type": "markdown",
   "metadata": {
    "colab_type": "text",
    "id": "QNs58p0w9FOp"
   },
   "source": [
    "**3.1 RandomForest with 10 estimators**"
   ]
  },
  {
   "cell_type": "code",
   "execution_count": 26,
   "metadata": {
    "colab": {
     "base_uri": "https://localhost:8080/",
     "height": 134
    },
    "colab_type": "code",
    "executionInfo": {
     "elapsed": 220329,
     "status": "ok",
     "timestamp": 1586565868932,
     "user": {
      "displayName": "Gaurav Negi",
      "photoUrl": "",
      "userId": "08053105973417055083"
     },
     "user_tz": -330
    },
    "id": "i82BaC4e5t4A",
    "outputId": "198ccc74-2eea-40c9-e281-95cc465ee11f"
   },
   "outputs": [
    {
     "data": {
      "text/plain": [
       "RandomForestRegressor(bootstrap=True, ccp_alpha=0.0, criterion='mse',\n",
       "                      max_depth=None, max_features='auto', max_leaf_nodes=None,\n",
       "                      max_samples=None, min_impurity_decrease=0.0,\n",
       "                      min_impurity_split=None, min_samples_leaf=1,\n",
       "                      min_samples_split=2, min_weight_fraction_leaf=0.0,\n",
       "                      n_estimators=10, n_jobs=-1, oob_score=False,\n",
       "                      random_state=None, verbose=0, warm_start=False)"
      ]
     },
     "execution_count": 26,
     "metadata": {},
     "output_type": "execute_result"
    }
   ],
   "source": [
    "from sklearn.ensemble import RandomForestRegressor\n",
    "cap_forest_regressor = RandomForestRegressor(n_estimators = 10, n_jobs = -1)\n",
    "cap_forest_regressor.fit(X_train, Y_train)"
   ]
  },
  {
   "cell_type": "code",
   "execution_count": 27,
   "metadata": {
    "colab": {
     "base_uri": "https://localhost:8080/",
     "height": 50
    },
    "colab_type": "code",
    "executionInfo": {
     "elapsed": 218883,
     "status": "ok",
     "timestamp": 1586565868933,
     "user": {
      "displayName": "Gaurav Negi",
      "photoUrl": "",
      "userId": "08053105973417055083"
     },
     "user_tz": -330
    },
    "id": "83ahb-Xe5t9g",
    "outputId": "7c17292e-674a-4c3f-a9c5-da64d596e4e8"
   },
   "outputs": [
    {
     "name": "stdout",
     "output_type": "stream",
     "text": [
      "The Spearman's correlation coefficient is: 0.383\n",
      "The Spearman's correlation coefficient is: 0.152\n"
     ]
    }
   ],
   "source": [
    "cap_predictions_rr1 = cap_forest_regressor.predict(X_test)\n",
    "Get_score(cap_predictions_rr1, Y_test)"
   ]
  },
  {
   "cell_type": "markdown",
   "metadata": {},
   "source": [
    "Random Forest with 10 estimators gives 0.383 spearman coefficient for short-term and 0.152 score for long-term.\n",
    "* Short-term score = 0.383 \n",
    "* Long-term score  = 0.152"
   ]
  },
  {
   "cell_type": "markdown",
   "metadata": {
    "colab_type": "text",
    "id": "fDMIun629-LG"
   },
   "source": [
    "**3.2 RandomForest with 100 estimators**"
   ]
  },
  {
   "cell_type": "code",
   "execution_count": 28,
   "metadata": {
    "colab": {
     "base_uri": "https://localhost:8080/",
     "height": 134
    },
    "colab_type": "code",
    "executionInfo": {
     "elapsed": 2845176,
     "status": "ok",
     "timestamp": 1586568496580,
     "user": {
      "displayName": "Gaurav Negi",
      "photoUrl": "",
      "userId": "08053105973417055083"
     },
     "user_tz": -330
    },
    "id": "exlU3Naj5uFG",
    "outputId": "5a7ae41f-f404-44cf-e4e9-4b7e2c0c006b"
   },
   "outputs": [
    {
     "data": {
      "text/plain": [
       "RandomForestRegressor(bootstrap=True, ccp_alpha=0.0, criterion='mse',\n",
       "                      max_depth=None, max_features='auto', max_leaf_nodes=None,\n",
       "                      max_samples=None, min_impurity_decrease=0.0,\n",
       "                      min_impurity_split=None, min_samples_leaf=1,\n",
       "                      min_samples_split=2, min_weight_fraction_leaf=0.0,\n",
       "                      n_estimators=100, n_jobs=-1, oob_score=False,\n",
       "                      random_state=None, verbose=0, warm_start=False)"
      ]
     },
     "execution_count": 28,
     "metadata": {},
     "output_type": "execute_result"
    }
   ],
   "source": [
    "from sklearn.ensemble import RandomForestRegressor\n",
    "cap_forest_regressor2 = RandomForestRegressor(n_estimators=100, n_jobs = -1)\n",
    "cap_forest_regressor2.fit(X_train, Y_train)"
   ]
  },
  {
   "cell_type": "code",
   "execution_count": 29,
   "metadata": {
    "colab": {
     "base_uri": "https://localhost:8080/",
     "height": 50
    },
    "colab_type": "code",
    "executionInfo": {
     "elapsed": 2844778,
     "status": "ok",
     "timestamp": 1586568496812,
     "user": {
      "displayName": "Gaurav Negi",
      "photoUrl": "",
      "userId": "08053105973417055083"
     },
     "user_tz": -330
    },
    "id": "_eRsxaZc5uHv",
    "outputId": "510d911b-6c76-4822-8817-6d994cc79fde"
   },
   "outputs": [
    {
     "name": "stdout",
     "output_type": "stream",
     "text": [
      "The Spearman's correlation coefficient is: 0.413\n",
      "The Spearman's correlation coefficient is: 0.149\n"
     ]
    }
   ],
   "source": [
    "cap_predictions_rr2 = cap_forest_regressor2.predict(X_test)\n",
    "Get_score(cap_predictions_rr2, Y_test)"
   ]
  },
  {
   "cell_type": "markdown",
   "metadata": {},
   "source": [
    "For RandomForest with 100 estimators, we did considerably well for short-term score which is 0.413 but long-term is decreased. So there is a trade-off\n",
    "\n",
    "* Short-term score = 0.413 \n",
    "* Long-term score  = 0.149"
   ]
  },
  {
   "cell_type": "markdown",
   "metadata": {
    "colab_type": "text",
    "id": "KUlNGBZo-HQS"
   },
   "source": [
    "**3.3 SVR FOR SHORT-TERM AND LONG-TERM MEMORABILITY**"
   ]
  },
  {
   "cell_type": "code",
   "execution_count": 30,
   "metadata": {
    "colab": {},
    "colab_type": "code",
    "id": "RFHFqecH5uNX"
   },
   "outputs": [],
   "source": [
    "from sklearn.svm import SVR"
   ]
  },
  {
   "cell_type": "code",
   "execution_count": 31,
   "metadata": {
    "colab": {},
    "colab_type": "code",
    "id": "w53_Ean75uPx"
   },
   "outputs": [],
   "source": [
    "Y = df.iloc[:, 1:2].values\n",
    "X_train, X_test, Y_train, Y_test = train_test_split(X,Y, test_size=0.2, random_state=42)"
   ]
  },
  {
   "cell_type": "code",
   "execution_count": 32,
   "metadata": {
    "colab": {},
    "colab_type": "code",
    "id": "dfOOSGdT5uLf"
   },
   "outputs": [],
   "source": [
    "cap_SVR_short = SVR().fit(X_train,Y_train.ravel())"
   ]
  },
  {
   "cell_type": "code",
   "execution_count": 33,
   "metadata": {
    "colab": {
     "base_uri": "https://localhost:8080/",
     "height": 34
    },
    "colab_type": "code",
    "executionInfo": {
     "elapsed": 2890975,
     "status": "ok",
     "timestamp": 1586568547297,
     "user": {
      "displayName": "Gaurav Negi",
      "photoUrl": "",
      "userId": "08053105973417055083"
     },
     "user_tz": -330
    },
    "id": "XjiLv_v95t__",
    "outputId": "e7969e1b-f94c-431e-fe2a-d227992f0319"
   },
   "outputs": [
    {
     "name": "stdout",
     "output_type": "stream",
     "text": [
      "The Spearman's correlation coefficient is: 0.437\n"
     ]
    }
   ],
   "source": [
    "cap_predictions_svr1 = cap_SVR_short.predict(X_test)\n",
    "Get_score(cap_predictions_svr1, Y_test)"
   ]
  },
  {
   "cell_type": "markdown",
   "metadata": {},
   "source": [
    "For Short-term we got 0.437 score which is better than random forest"
   ]
  },
  {
   "cell_type": "code",
   "execution_count": 34,
   "metadata": {
    "colab": {},
    "colab_type": "code",
    "id": "vgRIhXuYo3oi"
   },
   "outputs": [],
   "source": [
    "Y = df.iloc[:, 2:3].values\n",
    "X_train, X_test, Y_train, Y_test = train_test_split(X,Y, test_size=0.2, random_state=42)"
   ]
  },
  {
   "cell_type": "code",
   "execution_count": 35,
   "metadata": {
    "colab": {},
    "colab_type": "code",
    "id": "38HIXCFT5t7v"
   },
   "outputs": [],
   "source": [
    "cap_SVR_long = SVR().fit(X_train,Y_train.ravel())"
   ]
  },
  {
   "cell_type": "code",
   "execution_count": 36,
   "metadata": {
    "colab": {
     "base_uri": "https://localhost:8080/",
     "height": 34
    },
    "colab_type": "code",
    "executionInfo": {
     "elapsed": 3017359,
     "status": "ok",
     "timestamp": 1586568677374,
     "user": {
      "displayName": "Gaurav Negi",
      "photoUrl": "",
      "userId": "08053105973417055083"
     },
     "user_tz": -330
    },
    "id": "yA2SBKwk_FY2",
    "outputId": "402423d4-82a2-4a8d-a85d-a435fad4ebfc"
   },
   "outputs": [
    {
     "name": "stdout",
     "output_type": "stream",
     "text": [
      "The Spearman's correlation coefficient is: 0.189\n"
     ]
    }
   ],
   "source": [
    "cap_predictions_svr2 = cap_SVR_long.predict(X_test)\n",
    "Get_score(cap_predictions_svr2, Y_test)"
   ]
  },
  {
   "cell_type": "markdown",
   "metadata": {},
   "source": [
    "For long-term also we got better results than random forest. So we can say that our SVR is performing better than random forest in case of captions\n",
    "* Short-term score = 0.437 \n",
    "* Long-term score  = 0.189"
   ]
  },
  {
   "cell_type": "markdown",
   "metadata": {
    "colab_type": "text",
    "id": "ZbY4wU9GC35s"
   },
   "source": [
    "**3.4 Baseline MODEL with best parameters**\n",
    "\n",
    "We will be using a neural network which has best prameters for this scenario, GridSearch was used to tune the parameters."
   ]
  },
  {
   "cell_type": "code",
   "execution_count": 47,
   "metadata": {
    "colab": {},
    "colab_type": "code",
    "id": "JBLtKnPy_FhS"
   },
   "outputs": [],
   "source": [
    "Y = df.iloc[:, 1:3].values\n",
    "X_train, X_test, Y_train, Y_test = train_test_split(X,Y, test_size=0.2, random_state=42)"
   ]
  },
  {
   "cell_type": "code",
   "execution_count": 48,
   "metadata": {
    "colab": {},
    "colab_type": "code",
    "id": "28Ii2GJn_Fms"
   },
   "outputs": [],
   "source": [
    "n_col = X_train.shape[1]"
   ]
  },
  {
   "cell_type": "code",
   "execution_count": 49,
   "metadata": {
    "colab": {
     "base_uri": "https://localhost:8080/",
     "height": 121
    },
    "colab_type": "code",
    "executionInfo": {
     "elapsed": 3120947,
     "status": "ok",
     "timestamp": 1586568784361,
     "user": {
      "displayName": "Gaurav Negi",
      "photoUrl": "",
      "userId": "08053105973417055083"
     },
     "user_tz": -330
    },
    "id": "pGNr6_RW_FsT",
    "outputId": "3d510fd5-81b4-4105-ca0c-1d6fd94ed965"
   },
   "outputs": [],
   "source": [
    "cap_model_nn = baseline_model(n_col)\n",
    "history = cap_model_nn.fit(X_train,Y_train, epochs=50, verbose=0, validation_data=(X_test,Y_test))"
   ]
  },
  {
   "cell_type": "code",
   "execution_count": 50,
   "metadata": {
    "colab": {},
    "colab_type": "code",
    "id": "IQ9cd_2I_Fyr"
   },
   "outputs": [],
   "source": [
    "loss = history.history['loss']\n",
    "val_loss = history.history['val_loss']\n",
    "accuracy = history.history['accuracy']\n",
    "val_accuracy = history.history['val_accuracy']"
   ]
  },
  {
   "cell_type": "code",
   "execution_count": 51,
   "metadata": {
    "colab": {},
    "colab_type": "code",
    "id": "YCXKDLck_Fpu"
   },
   "outputs": [
    {
     "name": "stdout",
     "output_type": "stream",
     "text": [
      "The Spearman's correlation coefficient is: 0.443\n",
      "The Spearman's correlation coefficient is: 0.204\n"
     ]
    }
   ],
   "source": [
    "cap_predictions_nn = cap_model_nn.predict(X_test)\n",
    "Get_score(cap_predictions_nn, Y_test)"
   ]
  },
  {
   "cell_type": "markdown",
   "metadata": {},
   "source": [
    "The neural network is performing same as SVR for short-term memorability but has shown some improvement in long-term score. So overall performance for captions is best in case of neural network\n",
    "* Short-term score = 0.443 \n",
    "* Long-term score  = 0.204"
   ]
  },
  {
   "cell_type": "code",
   "execution_count": 55,
   "metadata": {
    "colab": {
     "base_uri": "https://localhost:8080/",
     "height": 573
    },
    "colab_type": "code",
    "executionInfo": {
     "elapsed": 1146,
     "status": "ok",
     "timestamp": 1586568785569,
     "user": {
      "displayName": "Gaurav Negi",
      "photoUrl": "",
      "userId": "08053105973417055083"
     },
     "user_tz": -330
    },
    "id": "rWx3fyVe_FfB",
    "outputId": "57c2abe0-e91c-499d-f1f9-d1ab2dcd02e3"
   },
   "outputs": [
    {
     "data": {
      "image/png": "[encoded data removed]",
      "text/plain": [
       "<Figure size 432x288 with 1 Axes>"
      ]
     },
     "metadata": {
      "needs_background": "light"
     },
     "output_type": "display_data"
    }
   ],
   "source": [
    "visualize(loss, val_loss)"
   ]
  },
  {
   "cell_type": "markdown",
   "metadata": {
    "colab_type": "text",
    "id": "tg4e5JZhKV5R"
   },
   "source": [
    "## 4. Exploring Captions with weights\n",
    "Referring to the previous work done in [this paper](http://ceur-ws.org/Vol-2283/MediaEval_18_paper_31.pdf), I will be assigning positive weights to certain words at the time of cleaning. These words seems to have extra effect in determing the score for videos."
   ]
  },
  {
   "cell_type": "code",
   "execution_count": 56,
   "metadata": {
    "colab": {},
    "colab_type": "code",
    "id": "uxHHc37IKUKh"
   },
   "outputs": [],
   "source": [
    "df,captions_features= get_data()"
   ]
  },
  {
   "cell_type": "code",
   "execution_count": 57,
   "metadata": {
    "colab": {
     "base_uri": "https://localhost:8080/",
     "height": 195
    },
    "colab_type": "code",
    "executionInfo": {
     "elapsed": 572,
     "status": "ok",
     "timestamp": 1586568938668,
     "user": {
      "displayName": "Gaurav Negi",
      "photoUrl": "",
      "userId": "08053105973417055083"
     },
     "user_tz": -330
    },
    "id": "Dk7Q3KYDKUNS",
    "outputId": "de6f0bfc-7195-4694-85bd-c203ba8f62aa"
   },
   "outputs": [
    {
     "data": {
      "text/html": [
       "<div>\n",
       "<style scoped>\n",
       "    .dataframe tbody tr th:only-of-type {\n",
       "        vertical-align: middle;\n",
       "    }\n",
       "\n",
       "    .dataframe tbody tr th {\n",
       "        vertical-align: top;\n",
       "    }\n",
       "\n",
       "    .dataframe thead th {\n",
       "        text-align: right;\n",
       "    }\n",
       "</style>\n",
       "<table border=\"1\" class=\"dataframe\">\n",
       "  <thead>\n",
       "    <tr style=\"text-align: right;\">\n",
       "      <th></th>\n",
       "      <th>video</th>\n",
       "      <th>short-term_memorability</th>\n",
       "      <th>long-term_memorability</th>\n",
       "    </tr>\n",
       "  </thead>\n",
       "  <tbody>\n",
       "    <tr>\n",
       "      <th>0</th>\n",
       "      <td>video3</td>\n",
       "      <td>0.924</td>\n",
       "      <td>0.846</td>\n",
       "    </tr>\n",
       "    <tr>\n",
       "      <th>1</th>\n",
       "      <td>video4</td>\n",
       "      <td>0.923</td>\n",
       "      <td>0.667</td>\n",
       "    </tr>\n",
       "    <tr>\n",
       "      <th>2</th>\n",
       "      <td>video6</td>\n",
       "      <td>0.863</td>\n",
       "      <td>0.700</td>\n",
       "    </tr>\n",
       "    <tr>\n",
       "      <th>3</th>\n",
       "      <td>video8</td>\n",
       "      <td>0.922</td>\n",
       "      <td>0.818</td>\n",
       "    </tr>\n",
       "    <tr>\n",
       "      <th>4</th>\n",
       "      <td>video10</td>\n",
       "      <td>0.950</td>\n",
       "      <td>0.900</td>\n",
       "    </tr>\n",
       "  </tbody>\n",
       "</table>\n",
       "</div>"
      ],
      "text/plain": [
       "     video  short-term_memorability  long-term_memorability\n",
       "0   video3                    0.924                   0.846\n",
       "1   video4                    0.923                   0.667\n",
       "2   video6                    0.863                   0.700\n",
       "3   video8                    0.922                   0.818\n",
       "4  video10                    0.950                   0.900"
      ]
     },
     "execution_count": 57,
     "metadata": {},
     "output_type": "execute_result"
    }
   ],
   "source": [
    "df['video'] = df['video'].apply(lambda x : x.split('.')[0])\n",
    "df.head()"
   ]
  },
  {
   "cell_type": "code",
   "execution_count": 58,
   "metadata": {
    "colab": {
     "base_uri": "https://localhost:8080/",
     "height": 195
    },
    "colab_type": "code",
    "executionInfo": {
     "elapsed": 594,
     "status": "ok",
     "timestamp": 1586568939887,
     "user": {
      "displayName": "Gaurav Negi",
      "photoUrl": "",
      "userId": "08053105973417055083"
     },
     "user_tz": -330
    },
    "id": "RaRcaVzjKUQs",
    "outputId": "be2a105c-62ff-421b-ded5-f31851cbcfd6"
   },
   "outputs": [
    {
     "data": {
      "text/html": [
       "<div>\n",
       "<style scoped>\n",
       "    .dataframe tbody tr th:only-of-type {\n",
       "        vertical-align: middle;\n",
       "    }\n",
       "\n",
       "    .dataframe tbody tr th {\n",
       "        vertical-align: top;\n",
       "    }\n",
       "\n",
       "    .dataframe thead th {\n",
       "        text-align: right;\n",
       "    }\n",
       "</style>\n",
       "<table border=\"1\" class=\"dataframe\">\n",
       "  <thead>\n",
       "    <tr style=\"text-align: right;\">\n",
       "      <th></th>\n",
       "      <th>video</th>\n",
       "      <th>Captions</th>\n",
       "    </tr>\n",
       "  </thead>\n",
       "  <tbody>\n",
       "    <tr>\n",
       "      <th>0</th>\n",
       "      <td>video3</td>\n",
       "      <td>blonde-woman-is-massaged-tilt-down</td>\n",
       "    </tr>\n",
       "    <tr>\n",
       "      <th>1</th>\n",
       "      <td>video4</td>\n",
       "      <td>roulette-table-spinning-with-ball-in-closeup-shot</td>\n",
       "    </tr>\n",
       "    <tr>\n",
       "      <th>2</th>\n",
       "      <td>video6</td>\n",
       "      <td>khr-gangsters</td>\n",
       "    </tr>\n",
       "    <tr>\n",
       "      <th>3</th>\n",
       "      <td>video8</td>\n",
       "      <td>medical-helicopter-hovers-at-airport</td>\n",
       "    </tr>\n",
       "    <tr>\n",
       "      <th>4</th>\n",
       "      <td>video10</td>\n",
       "      <td>couple-relaxing-on-picnic-crane-shot</td>\n",
       "    </tr>\n",
       "  </tbody>\n",
       "</table>\n",
       "</div>"
      ],
      "text/plain": [
       "     video                                           Captions\n",
       "0   video3                 blonde-woman-is-massaged-tilt-down\n",
       "1   video4  roulette-table-spinning-with-ball-in-closeup-shot\n",
       "2   video6                                      khr-gangsters\n",
       "3   video8               medical-helicopter-hovers-at-airport\n",
       "4  video10               couple-relaxing-on-picnic-crane-shot"
      ]
     },
     "execution_count": 58,
     "metadata": {},
     "output_type": "execute_result"
    }
   ],
   "source": [
    "captions_features['video'] = captions_features['video'].apply(lambda x : x.split('.')[0])\n",
    "captions_features.head()"
   ]
  },
  {
   "cell_type": "code",
   "execution_count": 59,
   "metadata": {
    "colab": {},
    "colab_type": "code",
    "id": "3dDF2zjeKUTC"
   },
   "outputs": [],
   "source": [
    "for line in df:\n",
    "    df['Captions'] = captions_features['Captions']"
   ]
  },
  {
   "cell_type": "code",
   "execution_count": 60,
   "metadata": {
    "colab": {},
    "colab_type": "code",
    "id": "GnjeXTtNKUWQ"
   },
   "outputs": [],
   "source": [
    "weights_to_certain_words = {'women':16,'woman':16,'eating':15,'putting':14,'lying':13,'girl':12,'selfie':11,'relaxing':10,'jellyfish':9,'cat':8,'super':7,'slow':6,'super':5,'american':4,'potrait':3,'pregnant':2,'couple':1}"
   ]
  },
  {
   "cell_type": "code",
   "execution_count": 61,
   "metadata": {
    "colab": {},
    "colab_type": "code",
    "id": "sMkin95UKUb5"
   },
   "outputs": [],
   "source": [
    "corpus, weights = clean_weigthed_corpus(df)"
   ]
  },
  {
   "cell_type": "code",
   "execution_count": 62,
   "metadata": {
    "colab": {},
    "colab_type": "code",
    "id": "s7C3ReEcKUfC"
   },
   "outputs": [],
   "source": [
    "weights_df = pd.DataFrame(np.array(weights).reshape(6000,1))"
   ]
  },
  {
   "cell_type": "code",
   "execution_count": 63,
   "metadata": {
    "colab": {},
    "colab_type": "code",
    "id": "NoZ_0-DhKUj9"
   },
   "outputs": [],
   "source": [
    "tf = TfidfVectorizer()\n",
    "captions_array = tf.fit_transform(corpus).toarray()\n",
    "merged_array = np.concatenate((captions_array, weights_df), axis=1)"
   ]
  },
  {
   "cell_type": "code",
   "execution_count": 64,
   "metadata": {
    "colab": {},
    "colab_type": "code",
    "id": "08Palpo0KUpR"
   },
   "outputs": [],
   "source": [
    "X = merged_array\n",
    "Y = df.iloc[:, 1:3].values\n",
    "\n",
    "X_train, X_test, Y_train, Y_test = train_test_split(X, Y, test_size = 0.20,  random_state=42)"
   ]
  },
  {
   "cell_type": "markdown",
   "metadata": {
    "colab_type": "text",
    "id": "ejF0tc02LZiv"
   },
   "source": [
    "**4.1 RandomForest with 10 estimators**"
   ]
  },
  {
   "cell_type": "code",
   "execution_count": 65,
   "metadata": {
    "colab": {
     "base_uri": "https://localhost:8080/",
     "height": 134
    },
    "colab_type": "code",
    "executionInfo": {
     "elapsed": 205015,
     "status": "ok",
     "timestamp": 1586569151286,
     "user": {
      "displayName": "Gaurav Negi",
      "photoUrl": "",
      "userId": "08053105973417055083"
     },
     "user_tz": -330
    },
    "id": "6OMpvlATKUsG",
    "outputId": "d437a203-ef01-48f1-ba23-28e533204234"
   },
   "outputs": [
    {
     "data": {
      "text/plain": [
       "RandomForestRegressor(bootstrap=True, ccp_alpha=0.0, criterion='mse',\n",
       "                      max_depth=None, max_features='auto', max_leaf_nodes=None,\n",
       "                      max_samples=None, min_impurity_decrease=0.0,\n",
       "                      min_impurity_split=None, min_samples_leaf=1,\n",
       "                      min_samples_split=2, min_weight_fraction_leaf=0.0,\n",
       "                      n_estimators=10, n_jobs=None, oob_score=False,\n",
       "                      random_state=None, verbose=0, warm_start=False)"
      ]
     },
     "execution_count": 65,
     "metadata": {},
     "output_type": "execute_result"
    }
   ],
   "source": [
    "wcap_forest_regressor1 = RandomForestRegressor(n_estimators = 10)\n",
    "wcap_forest_regressor1.fit(X_train, Y_train)"
   ]
  },
  {
   "cell_type": "code",
   "execution_count": 66,
   "metadata": {
    "colab": {
     "base_uri": "https://localhost:8080/",
     "height": 50
    },
    "colab_type": "code",
    "executionInfo": {
     "elapsed": 203485,
     "status": "ok",
     "timestamp": 1586569151290,
     "user": {
      "displayName": "Gaurav Negi",
      "photoUrl": "",
      "userId": "08053105973417055083"
     },
     "user_tz": -330
    },
    "id": "i85KXUsrKUvp",
    "outputId": "56d4a417-a2ac-4ffc-ad55-a987498da19e"
   },
   "outputs": [
    {
     "name": "stdout",
     "output_type": "stream",
     "text": [
      "The Spearman's correlation coefficient is: 0.398\n",
      "The Spearman's correlation coefficient is: 0.119\n"
     ]
    }
   ],
   "source": [
    "wcap_predictions_rr1 = wcap_forest_regressor1.predict(X_test)\n",
    "Get_score(wcap_predictions_rr1, Y_test)"
   ]
  },
  {
   "cell_type": "markdown",
   "metadata": {},
   "source": [
    "As expected captions with extra weights assigned has improved our model but thats seems to be the case for short-term memorability only. I might have gotten better results if I also included some negative weights too. \n",
    "* Short-term score = 0.398\n",
    "* Long-term score  = 0.119"
   ]
  },
  {
   "cell_type": "markdown",
   "metadata": {
    "colab_type": "text",
    "id": "XLR1h69zL0sm"
   },
   "source": [
    "**4.2 RandomForest with 100 estimators**"
   ]
  },
  {
   "cell_type": "code",
   "execution_count": 67,
   "metadata": {
    "colab": {
     "base_uri": "https://localhost:8080/",
     "height": 134
    },
    "colab_type": "code",
    "executionInfo": {
     "elapsed": 2253838,
     "status": "ok",
     "timestamp": 1586571202736,
     "user": {
      "displayName": "Gaurav Negi",
      "photoUrl": "",
      "userId": "08053105973417055083"
     },
     "user_tz": -330
    },
    "id": "LJplwdZuKU1-",
    "outputId": "08b94e68-adae-42f8-ba1d-25dc2ec9f1c8"
   },
   "outputs": [
    {
     "data": {
      "text/plain": [
       "RandomForestRegressor(bootstrap=True, ccp_alpha=0.0, criterion='mse',\n",
       "                      max_depth=None, max_features='auto', max_leaf_nodes=None,\n",
       "                      max_samples=None, min_impurity_decrease=0.0,\n",
       "                      min_impurity_split=None, min_samples_leaf=1,\n",
       "                      min_samples_split=2, min_weight_fraction_leaf=0.0,\n",
       "                      n_estimators=100, n_jobs=-1, oob_score=False,\n",
       "                      random_state=None, verbose=0, warm_start=False)"
      ]
     },
     "execution_count": 67,
     "metadata": {},
     "output_type": "execute_result"
    }
   ],
   "source": [
    "cap_forest_regressor2 = RandomForestRegressor(n_estimators = 100, n_jobs = -1)\n",
    "cap_forest_regressor2.fit(X_train, Y_train)"
   ]
  },
  {
   "cell_type": "code",
   "execution_count": 68,
   "metadata": {
    "colab": {
     "base_uri": "https://localhost:8080/",
     "height": 50
    },
    "colab_type": "code",
    "executionInfo": {
     "elapsed": 2253134,
     "status": "ok",
     "timestamp": 1586571203356,
     "user": {
      "displayName": "Gaurav Negi",
      "photoUrl": "",
      "userId": "08053105973417055083"
     },
     "user_tz": -330
    },
    "id": "N1U82ulmKU5A",
    "outputId": "ed6f92af-75bd-4aef-f370-1f462e17c4cd"
   },
   "outputs": [
    {
     "name": "stdout",
     "output_type": "stream",
     "text": [
      "The Spearman's correlation coefficient is: 0.430\n",
      "The Spearman's correlation coefficient is: 0.144\n"
     ]
    }
   ],
   "source": [
    "wcap_predictions_rr2 = cap_forest_regressor2.predict(X_test)\n",
    "Get_score(wcap_predictions_rr2, Y_test)"
   ]
  },
  {
   "cell_type": "markdown",
   "metadata": {},
   "source": [
    "Random Forest with 100 estimators have shown significant improvement for weighted captions compared to when I was only using captions.\n",
    "\n",
    "* Short-term score = 0.430 \n",
    "* Long-term score  = 0.144"
   ]
  },
  {
   "cell_type": "markdown",
   "metadata": {
    "colab_type": "text",
    "id": "LNLtQH3fMO0P"
   },
   "source": [
    "**4.3 SVR FOR Short-term and Long-term memorability**"
   ]
  },
  {
   "cell_type": "code",
   "execution_count": 69,
   "metadata": {
    "colab": {},
    "colab_type": "code",
    "id": "KWmyXm26KU79"
   },
   "outputs": [],
   "source": [
    "Y = df.iloc[:, 1:2].values\n",
    "X_train, X_test, Y_train, Y_test = train_test_split(X,Y, test_size=0.2, random_state=42)"
   ]
  },
  {
   "cell_type": "code",
   "execution_count": 70,
   "metadata": {
    "colab": {},
    "colab_type": "code",
    "id": "2SKZAB0xKVDL"
   },
   "outputs": [],
   "source": [
    "wcap_SVR_short = SVR(C=100).fit(X_train,Y_train.ravel())"
   ]
  },
  {
   "cell_type": "code",
   "execution_count": 71,
   "metadata": {
    "colab": {
     "base_uri": "https://localhost:8080/",
     "height": 34
    },
    "colab_type": "code",
    "executionInfo": {
     "elapsed": 12213,
     "status": "ok",
     "timestamp": 1586571259932,
     "user": {
      "displayName": "Gaurav Negi",
      "photoUrl": "",
      "userId": "08053105973417055083"
     },
     "user_tz": -330
    },
    "id": "tzGPG5y1KUhi",
    "outputId": "be981d3f-462a-4b5e-e19d-80de9ccb86b8"
   },
   "outputs": [
    {
     "name": "stdout",
     "output_type": "stream",
     "text": [
      "The Spearman's correlation coefficient is: 0.392\n"
     ]
    }
   ],
   "source": [
    "wcap_predictions_svr1 = wcap_SVR_short.predict(X_test)\n",
    "Get_score(wcap_predictions_svr1, Y_test)"
   ]
  },
  {
   "cell_type": "code",
   "execution_count": 72,
   "metadata": {
    "colab": {},
    "colab_type": "code",
    "id": "CKhLHHaDqfqg"
   },
   "outputs": [],
   "source": [
    "Y = df.iloc[:, 2:3].values\n",
    "X_train, X_test, Y_train, Y_test = train_test_split(X,Y, test_size=0.2, random_state=42)"
   ]
  },
  {
   "cell_type": "code",
   "execution_count": 73,
   "metadata": {
    "colab": {},
    "colab_type": "code",
    "id": "bPS93m44MdVR"
   },
   "outputs": [],
   "source": [
    "wcap_SVR_long = SVR(C=100).fit(X_train,Y_train.ravel())"
   ]
  },
  {
   "cell_type": "code",
   "execution_count": 74,
   "metadata": {
    "colab": {
     "base_uri": "https://localhost:8080/",
     "height": 34
    },
    "colab_type": "code",
    "executionInfo": {
     "elapsed": 142143,
     "status": "ok",
     "timestamp": 1586571390051,
     "user": {
      "displayName": "Gaurav Negi",
      "photoUrl": "",
      "userId": "08053105973417055083"
     },
     "user_tz": -330
    },
    "id": "Pq58_SuvMdYI",
    "outputId": "ab98a185-05d2-40ac-8f93-7fecb3df7530"
   },
   "outputs": [
    {
     "name": "stdout",
     "output_type": "stream",
     "text": [
      "The Spearman's correlation coefficient is: 0.183\n"
     ]
    }
   ],
   "source": [
    "wcap_predictions_svr2 = wcap_SVR_long.predict(X_test)\n",
    "Get_score(wcap_predictions_svr2, Y_test)"
   ]
  },
  {
   "cell_type": "markdown",
   "metadata": {},
   "source": [
    "We got some unexpected results, so far our performance was better for weighted captions but in case of SVR, the performance has decreased for short-term memorability.\n",
    "\n",
    "* Short-term score = 0.392 \n",
    "* Long-term score  = 0.183"
   ]
  },
  {
   "cell_type": "markdown",
   "metadata": {
    "colab_type": "text",
    "id": "VV91LAu_Mo5i"
   },
   "source": [
    "**4.4 Baseline MODEL with best parameters**"
   ]
  },
  {
   "cell_type": "code",
   "execution_count": 75,
   "metadata": {
    "colab": {},
    "colab_type": "code",
    "id": "uiWF6yqIMdbA"
   },
   "outputs": [],
   "source": [
    "Y = df.iloc[:, 1:3].values\n",
    "X_train, X_test, Y_train, Y_test = train_test_split(X,Y, test_size=0.2, random_state=42)"
   ]
  },
  {
   "cell_type": "code",
   "execution_count": 76,
   "metadata": {
    "colab": {},
    "colab_type": "code",
    "id": "tY2GmyBpMdd7"
   },
   "outputs": [],
   "source": [
    "n_col = X_train.shape[1]"
   ]
  },
  {
   "cell_type": "code",
   "execution_count": 77,
   "metadata": {
    "colab": {},
    "colab_type": "code",
    "id": "ri78MFHQMdjh"
   },
   "outputs": [],
   "source": [
    "wcap_model_nn = baseline_model(n_col)\n",
    "history = wcap_model_nn.fit(X_train,Y_train, epochs=30, verbose=0, validation_data=(X_test,Y_test))"
   ]
  },
  {
   "cell_type": "code",
   "execution_count": 78,
   "metadata": {
    "colab": {
     "base_uri": "https://localhost:8080/",
     "height": 50
    },
    "colab_type": "code",
    "executionInfo": {
     "elapsed": 250053,
     "status": "ok",
     "timestamp": 1586571498238,
     "user": {
      "displayName": "Gaurav Negi",
      "photoUrl": "",
      "userId": "08053105973417055083"
     },
     "user_tz": -330
    },
    "id": "ciN8YorzMdoj",
    "outputId": "2dc27371-55d5-4b08-d8b9-bc039eb8f70a"
   },
   "outputs": [
    {
     "name": "stdout",
     "output_type": "stream",
     "text": [
      "The Spearman's correlation coefficient is: 0.401\n",
      "The Spearman's correlation coefficient is: 0.198\n"
     ]
    }
   ],
   "source": [
    "wcap_predictions_nn = wcap_model_nn.predict(X_test)\n",
    "Get_score(wcap_predictions_nn, Y_test)"
   ]
  },
  {
   "cell_type": "markdown",
   "metadata": {},
   "source": [
    "Even the neural network with weighted captions did not improve the score of network with captions. I tried assigning diffent weights also but this is the best result for weighted captions using this network.\n",
    "\n",
    "* Short-term score = 0.401 \n",
    "* Long-term score  = 0.198"
   ]
  },
  {
   "cell_type": "code",
   "execution_count": 79,
   "metadata": {
    "colab": {},
    "colab_type": "code",
    "id": "1gBYtsnyMdl3"
   },
   "outputs": [],
   "source": [
    "loss = history.history['loss']\n",
    "val_loss = history.history['val_loss']\n",
    "accuracy = history.history['accuracy']\n",
    "val_accuracy = history.history['val_accuracy']"
   ]
  },
  {
   "cell_type": "code",
   "execution_count": 82,
   "metadata": {
    "colab": {
     "base_uri": "https://localhost:8080/",
     "height": 573
    },
    "colab_type": "code",
    "executionInfo": {
     "elapsed": 250537,
     "status": "ok",
     "timestamp": 1586571498832,
     "user": {
      "displayName": "Gaurav Negi",
      "photoUrl": "",
      "userId": "08053105973417055083"
     },
     "user_tz": -330
    },
    "id": "350IYw9IMdrM",
    "outputId": "bd50e6cf-a864-413b-fb8f-b73fca6175ba"
   },
   "outputs": [
    {
     "data": {
      "image/png": "[encoded data removed]",
      "text/plain": [
       "<Figure size 432x288 with 1 Axes>"
      ]
     },
     "metadata": {
      "needs_background": "light"
     },
     "output_type": "display_data"
    }
   ],
   "source": [
    "visualize(loss, val_loss)"
   ]
  },
  {
   "cell_type": "markdown",
   "metadata": {
    "colab_type": "text",
    "id": "ruPfaFC6T50f"
   },
   "source": [
    "## 5. HMP and Captions\n",
    "\n",
    "Based on the previous work done on this challenge, Video features like HMP alone do not perform very well so I decided to combine them with Captions and explore the performance using various ml algorithms.\n",
    "\n",
    "I also combined HMP with weighted captions while some models performed good compared to just combining HMP with normal captions but overall  the performance did not improved significantly."
   ]
  },
  {
   "cell_type": "code",
   "execution_count": 83,
   "metadata": {
    "colab": {},
    "colab_type": "code",
    "id": "htHy2CcsNO5Z"
   },
   "outputs": [],
   "source": [
    "df, captions_features = get_data()"
   ]
  },
  {
   "cell_type": "code",
   "execution_count": 84,
   "metadata": {
    "colab": {},
    "colab_type": "code",
    "id": "44o3lLb6NO-w"
   },
   "outputs": [],
   "source": [
    "df['video'] = df['video'].apply(lambda x : x.split('.')[0])\n",
    "captions_features['video'] = captions_features['video'].apply(lambda x : x.split('.')[0])"
   ]
  },
  {
   "cell_type": "code",
   "execution_count": 85,
   "metadata": {
    "colab": {},
    "colab_type": "code",
    "id": "VNoUEuW6jnlv"
   },
   "outputs": [],
   "source": [
    "for line in df:\n",
    "    df['Captions'] = captions_features['Captions']"
   ]
  },
  {
   "cell_type": "code",
   "execution_count": 86,
   "metadata": {
    "colab": {},
    "colab_type": "code",
    "id": "-vn5XNRzNPOt"
   },
   "outputs": [],
   "source": [
    "corpus = clean_corpus(df)"
   ]
  },
  {
   "cell_type": "code",
   "execution_count": 87,
   "metadata": {
    "colab": {},
    "colab_type": "code",
    "id": "VY7tKZe8NO8a"
   },
   "outputs": [],
   "source": [
    "tf = TfidfVectorizer()"
   ]
  },
  {
   "cell_type": "code",
   "execution_count": 88,
   "metadata": {
    "colab": {},
    "colab_type": "code",
    "id": "AcIX3UsqW3Ll"
   },
   "outputs": [],
   "source": [
    "captions_array = tf.fit_transform(corpus).toarray()"
   ]
  },
  {
   "cell_type": "code",
   "execution_count": 89,
   "metadata": {},
   "outputs": [
    {
     "data": {
      "text/plain": [
       "'C:\\\\Users\\\\Gaurav\\\\Desktop\\\\ML PROJECT'"
      ]
     },
     "execution_count": 89,
     "metadata": {},
     "output_type": "execute_result"
    }
   ],
   "source": [
    "os.getcwd() "
   ]
  },
  {
   "cell_type": "code",
   "execution_count": 90,
   "metadata": {},
   "outputs": [],
   "source": [
    "NEW_PATH =r'C:\\Users\\Gaurav\\Desktop\\ML PROJECT\\CA684_Assignment\\Dev-set\\HMP'"
   ]
  },
  {
   "cell_type": "code",
   "execution_count": 91,
   "metadata": {},
   "outputs": [],
   "source": [
    "os.chdir(NEW_PATH)"
   ]
  },
  {
   "cell_type": "code",
   "execution_count": 92,
   "metadata": {},
   "outputs": [
    {
     "data": {
      "text/plain": [
       "'C:\\\\Users\\\\Gaurav\\\\Desktop\\\\ML PROJECT\\\\CA684_Assignment\\\\Dev-set\\\\HMP'"
      ]
     },
     "execution_count": 92,
     "metadata": {},
     "output_type": "execute_result"
    }
   ],
   "source": [
    "os.getcwd() "
   ]
  },
  {
   "cell_type": "code",
   "execution_count": 93,
   "metadata": {
    "colab": {},
    "colab_type": "code",
    "id": "l7FYWY64W3SL"
   },
   "outputs": [],
   "source": [
    "HMP_feature_list= []\n",
    "video_names_list = []\n",
    "\n",
    "for filename in glob.glob('*.txt'):\n",
    "    name = ((filename.split('/')[-1]).split('.')[0])\n",
    "    video_names_list.append(name)\n",
    "    HMP_features = read_HMP(filename)\n",
    "    HMP_feature_list.append(HMP_features)"
   ]
  },
  {
   "cell_type": "code",
   "execution_count": 94,
   "metadata": {
    "colab": {},
    "colab_type": "code",
    "id": "UCUFKPhwW3XV"
   },
   "outputs": [],
   "source": [
    "HMP_features = pd.DataFrame(np.array(HMP_feature_list).reshape(6000,6075))\n",
    "HMP_features[\"video\"] = video_names_list"
   ]
  },
  {
   "cell_type": "code",
   "execution_count": 95,
   "metadata": {
    "colab": {},
    "colab_type": "code",
    "id": "G2D9x_qrW3aE"
   },
   "outputs": [],
   "source": [
    "pdf = pd.merge(df, HMP_features , on='video')"
   ]
  },
  {
   "cell_type": "code",
   "execution_count": 96,
   "metadata": {
    "colab": {},
    "colab_type": "code",
    "id": "X8lK_KKjW3ct"
   },
   "outputs": [],
   "source": [
    "HMP_array = pdf.iloc[:,4:104].values"
   ]
  },
  {
   "cell_type": "code",
   "execution_count": 97,
   "metadata": {
    "colab": {
     "base_uri": "https://localhost:8080/",
     "height": 34
    },
    "colab_type": "code",
    "executionInfo": {
     "elapsed": 559,
     "status": "ok",
     "timestamp": 1586571882338,
     "user": {
      "displayName": "Gaurav Negi",
      "photoUrl": "",
      "userId": "08053105973417055083"
     },
     "user_tz": -330
    },
    "id": "OleCDC3DW3Va",
    "outputId": "4e5fe3d0-6d28-45d8-9a41-a4f868478de4"
   },
   "outputs": [
    {
     "data": {
      "text/plain": [
       "(6000, 100)"
      ]
     },
     "execution_count": 97,
     "metadata": {},
     "output_type": "execute_result"
    }
   ],
   "source": [
    "HMP_array.shape"
   ]
  },
  {
   "cell_type": "code",
   "execution_count": 98,
   "metadata": {
    "colab": {},
    "colab_type": "code",
    "id": "5vfkTYqCXJLS"
   },
   "outputs": [],
   "source": [
    "merged_array = np.concatenate((captions_array, HMP_array), axis=1)"
   ]
  },
  {
   "cell_type": "code",
   "execution_count": 99,
   "metadata": {
    "colab": {},
    "colab_type": "code",
    "id": "XnQfARoFXJN_"
   },
   "outputs": [],
   "source": [
    "X = merged_array\n",
    "Y = df.iloc[:, 1:3].values\n",
    "X_train, X_test, Y_train, Y_test = train_test_split(X, Y, test_size = 0.20,  random_state=42)"
   ]
  },
  {
   "cell_type": "markdown",
   "metadata": {
    "colab_type": "text",
    "id": "O6I8F-GVXWoK"
   },
   "source": [
    "**5.1 RandomForest with 10 estimators**"
   ]
  },
  {
   "cell_type": "code",
   "execution_count": 100,
   "metadata": {
    "colab": {
     "base_uri": "https://localhost:8080/",
     "height": 134
    },
    "colab_type": "code",
    "executionInfo": {
     "elapsed": 45789,
     "status": "ok",
     "timestamp": 1586571932837,
     "user": {
      "displayName": "Gaurav Negi",
      "photoUrl": "",
      "userId": "08053105973417055083"
     },
     "user_tz": -330
    },
    "id": "lf0TYJVPXJRc",
    "outputId": "16c39c4a-ddfe-47a0-cdd8-9bd76f8b1f7d"
   },
   "outputs": [
    {
     "data": {
      "text/plain": [
       "RandomForestRegressor(bootstrap=True, ccp_alpha=0.0, criterion='mse',\n",
       "                      max_depth=None, max_features='auto', max_leaf_nodes=None,\n",
       "                      max_samples=None, min_impurity_decrease=0.0,\n",
       "                      min_impurity_split=None, min_samples_leaf=1,\n",
       "                      min_samples_split=2, min_weight_fraction_leaf=0.0,\n",
       "                      n_estimators=10, n_jobs=-1, oob_score=False,\n",
       "                      random_state=None, verbose=0, warm_start=False)"
      ]
     },
     "execution_count": 100,
     "metadata": {},
     "output_type": "execute_result"
    }
   ],
   "source": [
    "chmp_forest_regressor1 = RandomForestRegressor(n_estimators = 10, n_jobs=-1)\n",
    "chmp_forest_regressor1.fit(X_train, Y_train)"
   ]
  },
  {
   "cell_type": "code",
   "execution_count": 101,
   "metadata": {
    "colab": {
     "base_uri": "https://localhost:8080/",
     "height": 50
    },
    "colab_type": "code",
    "executionInfo": {
     "elapsed": 44402,
     "status": "ok",
     "timestamp": 1586571932841,
     "user": {
      "displayName": "Gaurav Negi",
      "photoUrl": "",
      "userId": "08053105973417055083"
     },
     "user_tz": -330
    },
    "id": "SsFYOvOgXJT8",
    "outputId": "633f36d5-1525-46ae-a270-9c67c2526d8e"
   },
   "outputs": [
    {
     "name": "stdout",
     "output_type": "stream",
     "text": [
      "The Spearman's correlation coefficient is: 0.246\n",
      "The Spearman's correlation coefficient is: 0.099\n"
     ]
    }
   ],
   "source": [
    "chmp_predictions_rr1 = chmp_forest_regressor1.predict(X_test)\n",
    "Get_score(chmp_predictions_rr1, Y_test)"
   ]
  },
  {
   "cell_type": "markdown",
   "metadata": {},
   "source": [
    "As expected video features did not improve the performance very well either.\n",
    "* Short-term Score is 0.246\n",
    "* Long-term Score is 0.099"
   ]
  },
  {
   "cell_type": "markdown",
   "metadata": {
    "colab_type": "text",
    "id": "GOg1t_9zXmpD"
   },
   "source": [
    "**5.2 RandomForest with 100 estimators**"
   ]
  },
  {
   "cell_type": "code",
   "execution_count": 102,
   "metadata": {
    "colab": {
     "base_uri": "https://localhost:8080/",
     "height": 134
    },
    "colab_type": "code",
    "executionInfo": {
     "elapsed": 628250,
     "status": "ok",
     "timestamp": 1586572518147,
     "user": {
      "displayName": "Gaurav Negi",
      "photoUrl": "",
      "userId": "08053105973417055083"
     },
     "user_tz": -330
    },
    "id": "pQuN75nuXJYW",
    "outputId": "f0666cbc-3f6f-4f69-8cd6-8f86955116c7"
   },
   "outputs": [
    {
     "data": {
      "text/plain": [
       "RandomForestRegressor(bootstrap=True, ccp_alpha=0.0, criterion='mse',\n",
       "                      max_depth=None, max_features='auto', max_leaf_nodes=None,\n",
       "                      max_samples=None, min_impurity_decrease=0.0,\n",
       "                      min_impurity_split=None, min_samples_leaf=1,\n",
       "                      min_samples_split=2, min_weight_fraction_leaf=0.0,\n",
       "                      n_estimators=100, n_jobs=-1, oob_score=False,\n",
       "                      random_state=None, verbose=0, warm_start=False)"
      ]
     },
     "execution_count": 102,
     "metadata": {},
     "output_type": "execute_result"
    }
   ],
   "source": [
    "chmp_forest_regressor2 = RandomForestRegressor(n_estimators = 100, n_jobs=-1)\n",
    "chmp_forest_regressor2.fit(X_train, Y_train)"
   ]
  },
  {
   "cell_type": "code",
   "execution_count": 103,
   "metadata": {
    "colab": {
     "base_uri": "https://localhost:8080/",
     "height": 50
    },
    "colab_type": "code",
    "executionInfo": {
     "elapsed": 627471,
     "status": "ok",
     "timestamp": 1586572518152,
     "user": {
      "displayName": "Gaurav Negi",
      "photoUrl": "",
      "userId": "08053105973417055083"
     },
     "user_tz": -330
    },
    "id": "pP4c7-5jXJbd",
    "outputId": "9691bf44-67e6-49b1-ffae-f30344e0fd8c"
   },
   "outputs": [
    {
     "name": "stdout",
     "output_type": "stream",
     "text": [
      "The Spearman's correlation coefficient is: 0.327\n",
      "The Spearman's correlation coefficient is: 0.119\n"
     ]
    }
   ],
   "source": [
    "chmp_predictions_rr2 = chmp_forest_regressor2.predict(X_test)\n",
    "Get_score(chmp_predictions_rr2, Y_test)"
   ]
  },
  {
   "cell_type": "markdown",
   "metadata": {},
   "source": [
    "Although 100 estimators did show some improvement but overall the performance has decreased after including the HMP features.\n",
    "* Short-term score = 0.327\n",
    "* Long-term score  = 0.119"
   ]
  },
  {
   "cell_type": "markdown",
   "metadata": {
    "colab_type": "text",
    "id": "Z4Iz-oJ7X9mK"
   },
   "source": [
    "**5.3 SVR FOR Short-term and Long-term memorability**"
   ]
  },
  {
   "cell_type": "code",
   "execution_count": 104,
   "metadata": {
    "colab": {},
    "colab_type": "code",
    "id": "8AjALdZoXJg-"
   },
   "outputs": [],
   "source": [
    "Y = df.iloc[:, 1:2].values\n",
    "X_train, X_test, Y_train, Y_test = train_test_split(X,Y, test_size=0.2, random_state=42)"
   ]
  },
  {
   "cell_type": "code",
   "execution_count": 105,
   "metadata": {
    "colab": {},
    "colab_type": "code",
    "id": "--q3RpkiXJjj"
   },
   "outputs": [],
   "source": [
    "chmp_SVR_short = SVR(C=100).fit(X_train,Y_train.ravel())"
   ]
  },
  {
   "cell_type": "code",
   "execution_count": 106,
   "metadata": {
    "colab": {
     "base_uri": "https://localhost:8080/",
     "height": 34
    },
    "colab_type": "code",
    "executionInfo": {
     "elapsed": 57528,
     "status": "ok",
     "timestamp": 1586573483728,
     "user": {
      "displayName": "Gaurav Negi",
      "photoUrl": "",
      "userId": "08053105973417055083"
     },
     "user_tz": -330
    },
    "id": "DGeFv1JoXJmI",
    "outputId": "67ff2525-97ae-4653-cf8b-a91ff010c480"
   },
   "outputs": [
    {
     "name": "stdout",
     "output_type": "stream",
     "text": [
      "The Spearman's correlation coefficient is: 0.416\n"
     ]
    }
   ],
   "source": [
    "chmp_predictions_svr1 = chmp_SVR_short.predict(X_test)\n",
    "Get_score(chmp_predictions_svr1, Y_test)"
   ]
  },
  {
   "cell_type": "code",
   "execution_count": 107,
   "metadata": {
    "colab": {},
    "colab_type": "code",
    "id": "Rhoe-NBMqj7D"
   },
   "outputs": [],
   "source": [
    "Y = df.iloc[:, 2:3].values\n",
    "X_train, X_test, Y_train, Y_test = train_test_split(X,Y, test_size=0.2, random_state=42)"
   ]
  },
  {
   "cell_type": "code",
   "execution_count": 108,
   "metadata": {
    "colab": {},
    "colab_type": "code",
    "id": "rPeUIZD3XJo8"
   },
   "outputs": [],
   "source": [
    "chmp_SVR_long = SVR(C=100).fit(X_train,Y_train.ravel())"
   ]
  },
  {
   "cell_type": "code",
   "execution_count": 109,
   "metadata": {
    "colab": {
     "base_uri": "https://localhost:8080/",
     "height": 34
    },
    "colab_type": "code",
    "executionInfo": {
     "elapsed": 172140,
     "status": "ok",
     "timestamp": 1586573601307,
     "user": {
      "displayName": "Gaurav Negi",
      "photoUrl": "",
      "userId": "08053105973417055083"
     },
     "user_tz": -330
    },
    "id": "GBMTIDAAXJez",
    "outputId": "95f95bab-4c5d-4d79-de70-ac09b81bebe5"
   },
   "outputs": [
    {
     "name": "stdout",
     "output_type": "stream",
     "text": [
      "The Spearman's correlation coefficient is: 0.182\n"
     ]
    }
   ],
   "source": [
    "chmp_predictions_svr2 = chmp_SVR_long.predict(X_test)\n",
    "Get_score(chmp_predictions_svr2, Y_test)"
   ]
  },
  {
   "cell_type": "markdown",
   "metadata": {},
   "source": [
    "SVR model did performed better that weighted captions model in case of short-term memorability.\n",
    "* Short-term score = 0.416\n",
    "* Long-term score = 0.182"
   ]
  },
  {
   "cell_type": "markdown",
   "metadata": {
    "colab_type": "text",
    "id": "2SUC3gTRYoK_"
   },
   "source": [
    "**5.4 Baseline MODEL with best parameters**"
   ]
  },
  {
   "cell_type": "code",
   "execution_count": 110,
   "metadata": {
    "colab": {},
    "colab_type": "code",
    "id": "moCCWUU_Yqk5"
   },
   "outputs": [],
   "source": [
    "Y = df.iloc[:, 1:3].values\n",
    "X_train, X_test, Y_train, Y_test = train_test_split(X,Y, test_size=0.2, random_state=1)"
   ]
  },
  {
   "cell_type": "code",
   "execution_count": 111,
   "metadata": {
    "colab": {},
    "colab_type": "code",
    "id": "_3US8d6-YqoY"
   },
   "outputs": [],
   "source": [
    "n_col = X_train.shape[1]"
   ]
  },
  {
   "cell_type": "code",
   "execution_count": 114,
   "metadata": {
    "colab": {},
    "colab_type": "code",
    "id": "fXr6WhlBYqrI"
   },
   "outputs": [],
   "source": [
    "chmp_model_nn = baseline_model(n_col)\n",
    "history = chmp_model_nn.fit(X_train,Y_train, epochs=50, verbose=0, validation_data=(X_test,Y_test))"
   ]
  },
  {
   "cell_type": "code",
   "execution_count": 115,
   "metadata": {
    "colab": {
     "base_uri": "https://localhost:8080/",
     "height": 50
    },
    "colab_type": "code",
    "executionInfo": {
     "elapsed": 583,
     "status": "ok",
     "timestamp": 1586573854115,
     "user": {
      "displayName": "Gaurav Negi",
      "photoUrl": "",
      "userId": "08053105973417055083"
     },
     "user_tz": -330
    },
    "id": "gX3wTwI6YquF",
    "outputId": "34b3baa5-44fc-4064-879a-93976d8b8789"
   },
   "outputs": [
    {
     "name": "stdout",
     "output_type": "stream",
     "text": [
      "The Spearman's correlation coefficient is: 0.407\n",
      "The Spearman's correlation coefficient is: 0.230\n"
     ]
    }
   ],
   "source": [
    "chmp_predictions_nn = chmp_model_nn.predict(X_test)\n",
    "Get_score(chmp_predictions_nn, Y_test)"
   ]
  },
  {
   "cell_type": "markdown",
   "metadata": {},
   "source": [
    "We got better results for long-term score but the short-term score is not as good as we got for captions only.\n",
    "* Short-term score = 0.407\n",
    "* Long-term score = 0.230"
   ]
  },
  {
   "cell_type": "code",
   "execution_count": 116,
   "metadata": {
    "colab": {},
    "colab_type": "code",
    "id": "w-x-C73eYq0I"
   },
   "outputs": [],
   "source": [
    "loss = history.history['loss']\n",
    "val_loss = history.history['val_loss']\n",
    "accuracy = history.history['accuracy']\n",
    "val_accuracy = history.history['val_accuracy']"
   ]
  },
  {
   "cell_type": "code",
   "execution_count": 117,
   "metadata": {
    "colab": {
     "base_uri": "https://localhost:8080/",
     "height": 573
    },
    "colab_type": "code",
    "executionInfo": {
     "elapsed": 1041,
     "status": "ok",
     "timestamp": 1586573859349,
     "user": {
      "displayName": "Gaurav Negi",
      "photoUrl": "",
      "userId": "08053105973417055083"
     },
     "user_tz": -330
    },
    "id": "C5o_ztv3Yq3N",
    "outputId": "37eee69e-334c-4d24-ce17-6b2f9ecf8a09"
   },
   "outputs": [
    {
     "data": {
      "image/png": "[encoded data removed]",
      "text/plain": [
       "<Figure size 432x288 with 1 Axes>"
      ]
     },
     "metadata": {
      "needs_background": "light"
     },
     "output_type": "display_data"
    }
   ],
   "source": [
    "visualize(loss, val_loss)"
   ]
  },
  {
   "cell_type": "markdown",
   "metadata": {
    "colab_type": "text",
    "id": "HX4-3_2Qlokm"
   },
   "source": [
    "## 6. C3D and Captions\n",
    "My approach for C3D features will be same as it was for HMP features. "
   ]
  },
  {
   "cell_type": "code",
   "execution_count": 118,
   "metadata": {},
   "outputs": [],
   "source": [
    "NEW_PATH =r'C:\\Users\\Gaurav\\Desktop\\ML PROJECT'"
   ]
  },
  {
   "cell_type": "code",
   "execution_count": 119,
   "metadata": {},
   "outputs": [],
   "source": [
    "os.chdir(NEW_PATH)"
   ]
  },
  {
   "cell_type": "code",
   "execution_count": 120,
   "metadata": {
    "colab": {},
    "colab_type": "code",
    "id": "bhswr0JbYrOA"
   },
   "outputs": [],
   "source": [
    "df, captions_features = get_data()"
   ]
  },
  {
   "cell_type": "code",
   "execution_count": 121,
   "metadata": {
    "colab": {},
    "colab_type": "code",
    "id": "vYCW5fcHYrRP"
   },
   "outputs": [],
   "source": [
    "df['video'] = df['video'].apply(lambda x : x.split('.')[0])\n",
    "captions_features['video'] = captions_features['video'].apply(lambda x : x.split('.')[0])"
   ]
  },
  {
   "cell_type": "code",
   "execution_count": 122,
   "metadata": {
    "colab": {},
    "colab_type": "code",
    "id": "ht37Yt4SYrV_"
   },
   "outputs": [],
   "source": [
    "for line in df:\n",
    "    df['Captions'] = captions_features['Captions']"
   ]
  },
  {
   "cell_type": "code",
   "execution_count": 123,
   "metadata": {
    "colab": {},
    "colab_type": "code",
    "id": "rl7GNLUvYrIx"
   },
   "outputs": [],
   "source": [
    "corpus = clean_corpus(df)"
   ]
  },
  {
   "cell_type": "code",
   "execution_count": 124,
   "metadata": {
    "colab": {},
    "colab_type": "code",
    "id": "51xUobTNYrFt"
   },
   "outputs": [],
   "source": [
    "tf = TfidfVectorizer()"
   ]
  },
  {
   "cell_type": "code",
   "execution_count": 125,
   "metadata": {
    "colab": {},
    "colab_type": "code",
    "id": "yI4QToRjYrBB"
   },
   "outputs": [],
   "source": [
    "captions_array = tf.fit_transform(corpus).toarray()"
   ]
  },
  {
   "cell_type": "code",
   "execution_count": 126,
   "metadata": {},
   "outputs": [],
   "source": [
    "NEW_PATH =r'C:\\Users\\Gaurav\\Desktop\\ML PROJECT\\CA684_Assignment\\Dev-set\\C3D'"
   ]
  },
  {
   "cell_type": "code",
   "execution_count": 127,
   "metadata": {},
   "outputs": [],
   "source": [
    "os.chdir(NEW_PATH)"
   ]
  },
  {
   "cell_type": "code",
   "execution_count": 128,
   "metadata": {
    "colab": {},
    "colab_type": "code",
    "id": "CNbfsEEemIr6"
   },
   "outputs": [],
   "source": [
    "C3D_feature_list= []\n",
    "video_names_list = []\n",
    "\n",
    "for filename in glob.glob('*.txt'):\n",
    "    name = ((filename.split('/')[-1]).split('.')[0])\n",
    "    video_names_list.append(name) \n",
    "    with open(filename) as f:\n",
    "        for line in f:\n",
    "            C3D_features =[float(item) for item in line.split()]\n",
    "    C3D_feature_list.append(C3D_features)"
   ]
  },
  {
   "cell_type": "code",
   "execution_count": 129,
   "metadata": {
    "colab": {},
    "colab_type": "code",
    "id": "5axLfJTOmI2Q"
   },
   "outputs": [],
   "source": [
    "C3D_features = pd.DataFrame(np.array(C3D_feature_list).reshape(6000,101))\n",
    "C3D_features[\"video\"] = video_names_list"
   ]
  },
  {
   "cell_type": "code",
   "execution_count": 130,
   "metadata": {
    "colab": {},
    "colab_type": "code",
    "id": "NDpOHarimI5w"
   },
   "outputs": [],
   "source": [
    "pdf = pd.merge(df, C3D_features , on='video')"
   ]
  },
  {
   "cell_type": "code",
   "execution_count": 131,
   "metadata": {
    "colab": {},
    "colab_type": "code",
    "id": "aqWkVRX8mI9k"
   },
   "outputs": [],
   "source": [
    "C3D_array = pdf.iloc[:,4:104].values"
   ]
  },
  {
   "cell_type": "code",
   "execution_count": 132,
   "metadata": {
    "colab": {
     "base_uri": "https://localhost:8080/",
     "height": 34
    },
    "colab_type": "code",
    "executionInfo": {
     "elapsed": 335,
     "status": "ok",
     "timestamp": 1586575895321,
     "user": {
      "displayName": "Gaurav Negi",
      "photoUrl": "",
      "userId": "08053105973417055083"
     },
     "user_tz": -330
    },
    "id": "d3VOboQmmIyh",
    "outputId": "bef5994d-20a2-4347-ef46-f29f87ff491c"
   },
   "outputs": [
    {
     "data": {
      "text/plain": [
       "(6000, 100)"
      ]
     },
     "execution_count": 132,
     "metadata": {},
     "output_type": "execute_result"
    }
   ],
   "source": [
    "C3D_array.shape"
   ]
  },
  {
   "cell_type": "code",
   "execution_count": 133,
   "metadata": {
    "colab": {},
    "colab_type": "code",
    "id": "f6VWHkdjmIvI"
   },
   "outputs": [],
   "source": [
    "merged_array = np.concatenate((captions_array, C3D_array), axis=1)"
   ]
  },
  {
   "cell_type": "code",
   "execution_count": 134,
   "metadata": {
    "colab": {},
    "colab_type": "code",
    "id": "La58jI6wmVr5"
   },
   "outputs": [],
   "source": [
    "X = merged_array\n",
    "Y = df.iloc[:, 1:3].values"
   ]
  },
  {
   "cell_type": "code",
   "execution_count": 135,
   "metadata": {
    "colab": {},
    "colab_type": "code",
    "id": "i0NRLT52mVxa"
   },
   "outputs": [],
   "source": [
    "X_train, X_test, Y_train, Y_test = train_test_split(X, Y, test_size = 0.20,  random_state=42)"
   ]
  },
  {
   "cell_type": "markdown",
   "metadata": {
    "colab_type": "text",
    "id": "RJJZJemImfx7"
   },
   "source": [
    "**6.1 RandomForest with 10 estimators**"
   ]
  },
  {
   "cell_type": "code",
   "execution_count": 136,
   "metadata": {
    "colab": {
     "base_uri": "https://localhost:8080/",
     "height": 134
    },
    "colab_type": "code",
    "executionInfo": {
     "elapsed": 17921,
     "status": "ok",
     "timestamp": 1586575918624,
     "user": {
      "displayName": "Gaurav Negi",
      "photoUrl": "",
      "userId": "08053105973417055083"
     },
     "user_tz": -330
    },
    "id": "WyXXqUmemV3z",
    "outputId": "d2d0e20a-a0b5-47f3-e025-828a663193b3"
   },
   "outputs": [
    {
     "data": {
      "text/plain": [
       "RandomForestRegressor(bootstrap=True, ccp_alpha=0.0, criterion='mse',\n",
       "                      max_depth=None, max_features='auto', max_leaf_nodes=None,\n",
       "                      max_samples=None, min_impurity_decrease=0.0,\n",
       "                      min_impurity_split=None, min_samples_leaf=1,\n",
       "                      min_samples_split=2, min_weight_fraction_leaf=0.0,\n",
       "                      n_estimators=10, n_jobs=-1, oob_score=False,\n",
       "                      random_state=None, verbose=0, warm_start=False)"
      ]
     },
     "execution_count": 136,
     "metadata": {},
     "output_type": "execute_result"
    }
   ],
   "source": [
    "cc3d_forest_regressor1 = RandomForestRegressor(n_estimators = 10, n_jobs=-1)\n",
    "cc3d_forest_regressor1.fit(X_train, Y_train)"
   ]
  },
  {
   "cell_type": "code",
   "execution_count": 137,
   "metadata": {
    "colab": {
     "base_uri": "https://localhost:8080/",
     "height": 50
    },
    "colab_type": "code",
    "executionInfo": {
     "elapsed": 16221,
     "status": "ok",
     "timestamp": 1586575918625,
     "user": {
      "displayName": "Gaurav Negi",
      "photoUrl": "",
      "userId": "08053105973417055083"
     },
     "user_tz": -330
    },
    "id": "zq2NddBgmV6s",
    "outputId": "2b5a58ac-cbe0-4913-e2f0-5c90c76b3489"
   },
   "outputs": [
    {
     "name": "stdout",
     "output_type": "stream",
     "text": [
      "The Spearman's correlation coefficient is: 0.256\n",
      "The Spearman's correlation coefficient is: 0.088\n"
     ]
    }
   ],
   "source": [
    "cc3d_predictions_rr1 = cc3d_forest_regressor1.predict(X_test)\n",
    "Get_score(cc3d_predictions_rr1, Y_test)"
   ]
  },
  {
   "cell_type": "markdown",
   "metadata": {},
   "source": [
    "With 10 estimators the performance is even lower than what we got for HMP&Captions combination.\n",
    "* Short-term score = 0.256 \n",
    "* Long-term score  = 0.088"
   ]
  },
  {
   "cell_type": "markdown",
   "metadata": {
    "colab_type": "text",
    "id": "FF7hUYqCmyrR"
   },
   "source": [
    "**6.2 RandomForest with 100 estimators**"
   ]
  },
  {
   "cell_type": "code",
   "execution_count": 138,
   "metadata": {
    "colab": {
     "base_uri": "https://localhost:8080/",
     "height": 134
    },
    "colab_type": "code",
    "executionInfo": {
     "elapsed": 224598,
     "status": "ok",
     "timestamp": 1586576128211,
     "user": {
      "displayName": "Gaurav Negi",
      "photoUrl": "",
      "userId": "08053105973417055083"
     },
     "user_tz": -330
    },
    "id": "V0c8hdUFmV_h",
    "outputId": "46626f77-d5f5-472c-e1aa-d4edb891951d"
   },
   "outputs": [
    {
     "data": {
      "text/plain": [
       "RandomForestRegressor(bootstrap=True, ccp_alpha=0.0, criterion='mse',\n",
       "                      max_depth=None, max_features='auto', max_leaf_nodes=None,\n",
       "                      max_samples=None, min_impurity_decrease=0.0,\n",
       "                      min_impurity_split=None, min_samples_leaf=1,\n",
       "                      min_samples_split=2, min_weight_fraction_leaf=0.0,\n",
       "                      n_estimators=100, n_jobs=-1, oob_score=False,\n",
       "                      random_state=None, verbose=0, warm_start=False)"
      ]
     },
     "execution_count": 138,
     "metadata": {},
     "output_type": "execute_result"
    }
   ],
   "source": [
    "cc3d_forest_regressor2 = RandomForestRegressor(n_estimators = 100, n_jobs=-1)\n",
    "cc3d_forest_regressor2.fit(X_train, Y_train)"
   ]
  },
  {
   "cell_type": "code",
   "execution_count": 139,
   "metadata": {
    "colab": {
     "base_uri": "https://localhost:8080/",
     "height": 50
    },
    "colab_type": "code",
    "executionInfo": {
     "elapsed": 224025,
     "status": "ok",
     "timestamp": 1586576128214,
     "user": {
      "displayName": "Gaurav Negi",
      "photoUrl": "",
      "userId": "08053105973417055083"
     },
     "user_tz": -330
    },
    "id": "z3gGVvfWmV9p",
    "outputId": "5bf5fd06-f507-44f5-b0de-4826313b4a4d"
   },
   "outputs": [
    {
     "name": "stdout",
     "output_type": "stream",
     "text": [
      "The Spearman's correlation coefficient is: 0.333\n",
      "The Spearman's correlation coefficient is: 0.101\n"
     ]
    }
   ],
   "source": [
    "cc3d_predictions_rr2 = cc3d_forest_regressor2.predict(X_test)\n",
    "Get_score(cc3d_predictions_rr2, Y_test)"
   ]
  },
  {
   "cell_type": "markdown",
   "metadata": {},
   "source": [
    "But as we increased the estimators the results improved compared to the HMP combination.\n",
    "* Short-term score = 0.333 \n",
    "* Long-term score  = 0.101"
   ]
  },
  {
   "cell_type": "markdown",
   "metadata": {
    "colab_type": "text",
    "id": "wiqY7pY4m9Ps"
   },
   "source": [
    "**6.3 SVR FOR Short-term and Long-term memorability**"
   ]
  },
  {
   "cell_type": "code",
   "execution_count": 140,
   "metadata": {
    "colab": {},
    "colab_type": "code",
    "id": "LYg7JdUzmV1t"
   },
   "outputs": [],
   "source": [
    "Y = df.iloc[:, 1:2].values\n",
    "X_train, X_test, Y_train, Y_test = train_test_split(X,Y, test_size=0.2, random_state=42)"
   ]
  },
  {
   "cell_type": "code",
   "execution_count": 141,
   "metadata": {
    "colab": {},
    "colab_type": "code",
    "id": "-lQks4PfmVvD"
   },
   "outputs": [],
   "source": [
    "cc3d_SVR_short = SVR(C=100).fit(X_train,Y_train.ravel())"
   ]
  },
  {
   "cell_type": "code",
   "execution_count": 142,
   "metadata": {
    "colab": {
     "base_uri": "https://localhost:8080/",
     "height": 34
    },
    "colab_type": "code",
    "executionInfo": {
     "elapsed": 48796,
     "status": "ok",
     "timestamp": 1586576267505,
     "user": {
      "displayName": "Gaurav Negi",
      "photoUrl": "",
      "userId": "08053105973417055083"
     },
     "user_tz": -330
    },
    "id": "7cFwcT7onJ0O",
    "outputId": "e5a813e2-7840-46b2-d183-bd849264306b"
   },
   "outputs": [
    {
     "name": "stdout",
     "output_type": "stream",
     "text": [
      "The Spearman's correlation coefficient is: 0.409\n"
     ]
    }
   ],
   "source": [
    "cc3d_predictions_svr1 = cc3d_SVR_short.predict(X_test)\n",
    "Get_score(cc3d_predictions_svr1, Y_test)"
   ]
  },
  {
   "cell_type": "code",
   "execution_count": 143,
   "metadata": {
    "colab": {},
    "colab_type": "code",
    "id": "h0N0Mujuqnxt"
   },
   "outputs": [],
   "source": [
    "Y = df.iloc[:, 2:3].values\n",
    "X_train, X_test, Y_train, Y_test = train_test_split(X,Y, test_size=0.2, random_state= 42)"
   ]
  },
  {
   "cell_type": "code",
   "execution_count": 144,
   "metadata": {
    "colab": {},
    "colab_type": "code",
    "id": "rpuC14dqnJ5e"
   },
   "outputs": [],
   "source": [
    "cc3d_SVR_long = SVR(C=100).fit(X_train,Y_train.ravel())"
   ]
  },
  {
   "cell_type": "code",
   "execution_count": 145,
   "metadata": {
    "colab": {
     "base_uri": "https://localhost:8080/",
     "height": 34
    },
    "colab_type": "code",
    "executionInfo": {
     "elapsed": 172579,
     "status": "ok",
     "timestamp": 1586576393190,
     "user": {
      "displayName": "Gaurav Negi",
      "photoUrl": "",
      "userId": "08053105973417055083"
     },
     "user_tz": -330
    },
    "id": "39C9i4EFnJ8q",
    "outputId": "d143e495-e767-4fdd-a44b-12b5dd61ff5d"
   },
   "outputs": [
    {
     "name": "stdout",
     "output_type": "stream",
     "text": [
      "The Spearman's correlation coefficient is: 0.155\n"
     ]
    }
   ],
   "source": [
    "cc3d_predictions_svr2 = cc3d_SVR_long.predict(X_test)\n",
    "Get_score(cc3d_predictions_svr2, Y_test)"
   ]
  },
  {
   "cell_type": "markdown",
   "metadata": {},
   "source": [
    "Not much change observed scores seems almost same as to the HMP combination.\n",
    "* Short-term score = 0.409 \n",
    "* Long-term score  = 0.155"
   ]
  },
  {
   "cell_type": "markdown",
   "metadata": {
    "colab_type": "text",
    "id": "LO_7tsPRnVC6"
   },
   "source": [
    "**6.4 Baseline MODEL with best parameters**"
   ]
  },
  {
   "cell_type": "code",
   "execution_count": 146,
   "metadata": {
    "colab": {},
    "colab_type": "code",
    "id": "vc_vWs6NnKE6"
   },
   "outputs": [],
   "source": [
    "Y = df.iloc[:, 1:3].values\n",
    "X_train, X_test, Y_train, Y_test = train_test_split(X,Y, test_size=0.2, random_state=42)"
   ]
  },
  {
   "cell_type": "code",
   "execution_count": 147,
   "metadata": {
    "colab": {},
    "colab_type": "code",
    "id": "GSVkAqTlnKKE"
   },
   "outputs": [],
   "source": [
    "n_col = X_train.shape[1]"
   ]
  },
  {
   "cell_type": "code",
   "execution_count": 148,
   "metadata": {
    "colab": {},
    "colab_type": "code",
    "id": "knKia0FNnKHw"
   },
   "outputs": [],
   "source": [
    "cc3d_model_nn = baseline_model(n_col)\n",
    "history = cc3d_model_nn.fit(X_train,Y_train, epochs=30, verbose=0, validation_data=(X_test,Y_test))"
   ]
  },
  {
   "cell_type": "code",
   "execution_count": 149,
   "metadata": {
    "colab": {
     "base_uri": "https://localhost:8080/",
     "height": 50
    },
    "colab_type": "code",
    "executionInfo": {
     "elapsed": 589,
     "status": "ok",
     "timestamp": 1586576527407,
     "user": {
      "displayName": "Gaurav Negi",
      "photoUrl": "",
      "userId": "08053105973417055083"
     },
     "user_tz": -330
    },
    "id": "_LZbmuyxnKCO",
    "outputId": "9a8f7024-4eeb-474a-81fb-c877101bdfe0"
   },
   "outputs": [
    {
     "name": "stdout",
     "output_type": "stream",
     "text": [
      "The Spearman's correlation coefficient is: 0.408\n",
      "The Spearman's correlation coefficient is: 0.194\n"
     ]
    }
   ],
   "source": [
    "cc3d_predictions_nn = cc3d_model_nn.predict(X_test)\n",
    "Get_score(cc3d_predictions_nn, Y_test)"
   ]
  },
  {
   "cell_type": "markdown",
   "metadata": {},
   "source": [
    "Out of all models for this combination, sequential model gives the best results. It is almost as same as the result we got from captions. But this just proves that even after adding extra features we were not able to improve our model significantly.\n",
    "\n",
    "* Short-term score = 0.408 \n",
    "* Long-term score  = 0.194"
   ]
  },
  {
   "cell_type": "code",
   "execution_count": 150,
   "metadata": {
    "colab": {},
    "colab_type": "code",
    "id": "XI448unknJ_a"
   },
   "outputs": [],
   "source": [
    "loss = history.history['loss']\n",
    "val_loss = history.history['val_loss']\n",
    "accuracy = history.history['accuracy']\n",
    "val_accuracy = history.history['val_accuracy']"
   ]
  },
  {
   "cell_type": "code",
   "execution_count": 151,
   "metadata": {
    "colab": {
     "base_uri": "https://localhost:8080/",
     "height": 573
    },
    "colab_type": "code",
    "executionInfo": {
     "elapsed": 736,
     "status": "ok",
     "timestamp": 1586576531416,
     "user": {
      "displayName": "Gaurav Negi",
      "photoUrl": "",
      "userId": "08053105973417055083"
     },
     "user_tz": -330
    },
    "id": "_DuJG_KpnJ3f",
    "outputId": "1b8e9789-22d7-466f-e0d6-55c583a2882d",
    "scrolled": true
   },
   "outputs": [
    {
     "data": {
      "image/png": "[encoded data removed]",
      "text/plain": [
       "<Figure size 432x288 with 1 Axes>"
      ]
     },
     "metadata": {
      "needs_background": "light"
     },
     "output_type": "display_data"
    }
   ],
   "source": [
    "visualize(loss, val_loss)"
   ]
  },
  {
   "cell_type": "markdown",
   "metadata": {},
   "source": [
    "## 7. Improving Best Model\n",
    "\n",
    "The best model so far is the network we created using captions only with **Short-term Score: 0.438 and Long-term Score: 0.208**. So we will further try to improve this model using advanced techniques. Although we were using the best parameters for the model with help of GridSearchCV, now our approach will be to modify learning rate by different techniques."
   ]
  },
  {
   "cell_type": "code",
   "execution_count": 152,
   "metadata": {},
   "outputs": [],
   "source": [
    "NEW_PATH =r'C:\\Users\\Gaurav\\Desktop\\ML PROJECT'"
   ]
  },
  {
   "cell_type": "code",
   "execution_count": 153,
   "metadata": {},
   "outputs": [],
   "source": [
    "os.chdir(NEW_PATH)"
   ]
  },
  {
   "cell_type": "code",
   "execution_count": 154,
   "metadata": {},
   "outputs": [],
   "source": [
    "df,  captions_features= get_data()"
   ]
  },
  {
   "cell_type": "code",
   "execution_count": 155,
   "metadata": {},
   "outputs": [],
   "source": [
    "df['video'] = df['video'].apply(lambda x : x.split('.')[0])"
   ]
  },
  {
   "cell_type": "code",
   "execution_count": 156,
   "metadata": {},
   "outputs": [],
   "source": [
    "captions_features['video'] = captions_features['video'].apply(lambda x : x.split('.')[0])"
   ]
  },
  {
   "cell_type": "code",
   "execution_count": 157,
   "metadata": {},
   "outputs": [],
   "source": [
    "for line in df:\n",
    "    df['Captions'] = captions_features['Captions']"
   ]
  },
  {
   "cell_type": "code",
   "execution_count": 158,
   "metadata": {},
   "outputs": [],
   "source": [
    "corpus = clean_corpus(df)"
   ]
  },
  {
   "cell_type": "code",
   "execution_count": 159,
   "metadata": {},
   "outputs": [],
   "source": [
    "tf = TfidfVectorizer()"
   ]
  },
  {
   "cell_type": "code",
   "execution_count": 160,
   "metadata": {},
   "outputs": [],
   "source": [
    "X = tf.fit_transform(corpus).toarray()\n",
    "Y = df.iloc[:, 1:3].values"
   ]
  },
  {
   "cell_type": "code",
   "execution_count": 161,
   "metadata": {},
   "outputs": [],
   "source": [
    "X_train, X_test, Y_train, Y_test = train_test_split(X, Y, test_size = 0.20, random_state=42)"
   ]
  },
  {
   "cell_type": "code",
   "execution_count": 162,
   "metadata": {},
   "outputs": [],
   "source": [
    "n_col = X_train.shape[1]"
   ]
  },
  {
   "cell_type": "markdown",
   "metadata": {},
   "source": [
    "**7.1 Cross Validation**\n",
    "\n",
    "I took reference for this topic from [this article](https://machinelearningmastery.com/k-fold-cross-validation/). Using Cross Validation: \n",
    "* 1. we build K different models, so we are able to make predictions on all of our data. \n",
    "* 2. we are able to get more metrics and draw important conclusion both about our algorithm and our data.\n",
    "\n",
    "cross_val_score calls the .score() method of the estimator you pass in and what that returns varies depending on the estimator, in our case we get MSE."
   ]
  },
  {
   "cell_type": "code",
   "execution_count": 163,
   "metadata": {},
   "outputs": [],
   "source": [
    "def b_model():\n",
    "    model = Sequential()\n",
    "    model.add(layers.Dropout(0.3, input_shape=(n_col,)))\n",
    "    model.add(layers.Dense(10, activation='selu', kernel_regularizer=regularizers.l2(0.001),\n",
    "                       kernel_initializer='he_normal'))\n",
    "    model.add(layers.Dense(2, activation='sigmoid')) \n",
    "    model.compile(optimizer='adadelta', loss='mse', metrics=['accuracy']) \n",
    " \n",
    "    return model"
   ]
  },
  {
   "cell_type": "code",
   "execution_count": 164,
   "metadata": {},
   "outputs": [],
   "source": [
    "# INstead of fit() we use keras model \n",
    "model = KerasRegressor(build_fn=b_model, epochs=100, batch_size=10, verbose=0)\n",
    "\n",
    "# evaluate using 5-fold cross validation\n",
    "kfold = KFold(n_splits=5, shuffle=True, random_state=1)"
   ]
  },
  {
   "cell_type": "code",
   "execution_count": 165,
   "metadata": {},
   "outputs": [
    {
     "name": "stderr",
     "output_type": "stream",
     "text": [
      "[Parallel(n_jobs=-1)]: Using backend LokyBackend with 8 concurrent workers.\n",
      "[Parallel(n_jobs=-1)]: Done   2 out of   5 | elapsed:  4.0min remaining:  6.0min\n",
      "[Parallel(n_jobs=-1)]: Done   3 out of   5 | elapsed:  4.0min remaining:  2.7min\n",
      "[Parallel(n_jobs=-1)]: Done   5 out of   5 | elapsed:  4.0min remaining:    0.0s\n",
      "[Parallel(n_jobs=-1)]: Done   5 out of   5 | elapsed:  4.0min finished\n"
     ]
    },
    {
     "data": {
      "text/plain": [
       "array([-0.01248829, -0.01314588, -0.01372077, -0.01283476, -0.01338728])"
      ]
     },
     "execution_count": 165,
     "metadata": {},
     "output_type": "execute_result"
    }
   ],
   "source": [
    "cross_val_score(model, X_train, Y_train, cv=kfold, verbose=10, n_jobs = -1)"
   ]
  },
  {
   "cell_type": "markdown",
   "metadata": {},
   "source": [
    "The MSE is between 0.0124 to 0.0139, so the difference is insignificant. Hence we can fit our model in a homogenous manner on the dataset."
   ]
  },
  {
   "cell_type": "markdown",
   "metadata": {},
   "source": [
    "**7.2 Learning Curve**"
   ]
  },
  {
   "cell_type": "code",
   "execution_count": 166,
   "metadata": {},
   "outputs": [],
   "source": [
    "from sklearn.model_selection import learning_curve\n",
    "\n",
    "def randomize(X, Y):\n",
    "    permutation = np.random.permutation(Y.shape[0])\n",
    "    X2 = X[permutation,:]\n",
    "    Y2 = Y[permutation]\n",
    "    return X2, Y2\n",
    "\n",
    "\n",
    "def draw_learning_curves(X, Y, estimator, num_trainings):\n",
    "    \n",
    "    train_sizes, train_scores, test_scores = learning_curve(estimator, \n",
    "                                                            X, Y, cv=None, n_jobs=-1, \n",
    "                                                            train_sizes=np.linspace(0.1, 1.0, \n",
    "                                                                                    num_trainings))\n",
    "\n",
    "    train_scores_mean = np.mean(train_scores, axis=1)\n",
    "    test_scores_mean = np.mean(test_scores, axis=1)\n",
    "\n",
    "    plt.grid()\n",
    "\n",
    "    plt.title(\"Learning Curves\")\n",
    "    plt.xlabel(\"Training instances\")\n",
    "    plt.ylabel(\"Score\")\n",
    "\n",
    "    plt.plot(train_scores_mean, 'o-', color=\"r\", label=\"Training score\")\n",
    "    plt.plot(test_scores_mean, 'o-', color=\"g\", label=\"Cross-validation score\")\n",
    "    plt.legend(loc=\"best\")\n",
    "    plt.show()"
   ]
  },
  {
   "cell_type": "code",
   "execution_count": 167,
   "metadata": {},
   "outputs": [
    {
     "name": "stderr",
     "output_type": "stream",
     "text": [
      "C:\\ProgramData\\Anaconda3\\lib\\site-packages\\joblib\\externals\\loky\\process_executor.py:706: UserWarning: A worker stopped while some jobs were given to the executor. This can be caused by a too short worker timeout or by a memory leak.\n",
      "  \"timeout or by a memory leak.\", UserWarning\n"
     ]
    },
    {
     "data": {
      "image/png": "[encoded data removed]",
      "text/plain": [
       "<Figure size 432x288 with 1 Axes>"
      ]
     },
     "metadata": {
      "needs_background": "light"
     },
     "output_type": "display_data"
    }
   ],
   "source": [
    "model = KerasRegressor(build_fn=b_model, verbose=10)\n",
    "\n",
    "X_LC, Y_LC = randomize(X_train, Y_train) \n",
    "\n",
    "draw_learning_curves(X_LC, Y_LC, estimator=model, num_trainings=200)"
   ]
  },
  {
   "cell_type": "markdown",
   "metadata": {},
   "source": [
    "**7.3 Time-based Learning Rate schedule and Decay**\n",
    "\n",
    "Reference for this appraoch is taken from [this article in towards data science](https://machinelearningmastery.com/using-learning-rate-schedules-deep-learning-models-python-keras/).\n",
    "Keras has a time-based learning rate schedule built in. And in this approach we will be decreasing the learning rate gradually based on the epoch. The decay argument is used in equation as follows:\n",
    "\n",
    "```LearningRate = LearningRate * 1/(1 + decay * epoch)```"
   ]
  },
  {
   "cell_type": "code",
   "execution_count": 184,
   "metadata": {},
   "outputs": [],
   "source": [
    "model = Sequential()\n",
    "model.add(layers.Dropout(0.3, input_shape=(n_col,)))\n",
    "model.add(layers.Dense(10, activation='selu', kernel_regularizer=regularizers.l2(0.001),\n",
    "                       kernel_initializer='he_normal',  kernel_constraint = maxnorm(5)))\n",
    "model.add(layers.Dense(2, activation='sigmoid')) "
   ]
  },
  {
   "cell_type": "code",
   "execution_count": 185,
   "metadata": {},
   "outputs": [],
   "source": [
    "epochs = 50\n",
    "lr = 0.1\n",
    "momentum = 0.9\n",
    "decay_rate = lr / epochs\n",
    "sgd = SGD(lr=lr, momentum=momentum, decay=decay_rate, nesterov=False)\n"
   ]
  },
  {
   "cell_type": "code",
   "execution_count": 186,
   "metadata": {},
   "outputs": [],
   "source": [
    "model.compile(optimizer=sgd, loss='mse', metrics=['accuracy'])"
   ]
  },
  {
   "cell_type": "code",
   "execution_count": 187,
   "metadata": {},
   "outputs": [
    {
     "data": {
      "text/plain": [
       "<keras.callbacks.callbacks.History at 0x2c30e0e3608>"
      ]
     },
     "execution_count": 187,
     "metadata": {},
     "output_type": "execute_result"
    }
   ],
   "source": [
    "model.fit(X_train, Y_train, epochs=epochs, verbose=0, validation_data=(X_test,Y_test))"
   ]
  },
  {
   "cell_type": "code",
   "execution_count": 188,
   "metadata": {},
   "outputs": [],
   "source": [
    "predictions = model.predict(X_test) "
   ]
  },
  {
   "cell_type": "code",
   "execution_count": 189,
   "metadata": {},
   "outputs": [
    {
     "name": "stdout",
     "output_type": "stream",
     "text": [
      "The Spearman's correlation coefficient is: 0.427\n",
      "The Spearman's correlation coefficient is: 0.195\n"
     ]
    }
   ],
   "source": [
    "Get_score(predictions, Y_test)"
   ]
  },
  {
   "cell_type": "markdown",
   "metadata": {},
   "source": [
    "**7.4 Drop-based Learning Rate schedule**\n",
    "\n",
    "In this approach we will be decreasing the learning rate using punctuated large drops at specific epochs. We will be  implementing this by dropping the learning rate by half every fixed number of epochs. For example, we may have an initial learning rate of 0.1 and drop it by 0.5 every 10 epochs. The first 10 epochs of training would use a value of 0.1, in the next 10 epochs a learning rate of 0.05 would be used, and so on.\n",
    "\n",
    "A new step_decay() function is defined that implements the equation:\n",
    "\n",
    "```LearningRate = InitialLearningRate * DropRate^floor(Epoch / EpochDrop)``` [Reference](https://machinelearningmastery.com/using-learning-rate-schedules-deep-learning-models-python-keras/)"
   ]
  },
  {
   "cell_type": "code",
   "execution_count": 176,
   "metadata": {},
   "outputs": [],
   "source": [
    "import math\n",
    "from keras.callbacks import LearningRateScheduler\n",
    "\n",
    "\n",
    "'''\n",
    "LearningRate = LearningRate(0) * DropRate to the power: floor{(1 + epoch)/epoch_drop} \n",
    "'''\n",
    "\n",
    "#Epoch_Drop is how often the learning rate is dropped in epochs and \n",
    "#DropRate is how much to drop the learning rate each time it is dropped\n",
    "\n",
    "# learning rate schedule\n",
    "def step_decay(epoch):\n",
    "    initial_lrate = 0.1\n",
    "    drop = 0.3\n",
    "    epochs_drop = 15.0\n",
    "    lrate = initial_lrate * math.pow(drop, math.floor((1+epoch)/epochs_drop))\n",
    " #   print (‘epoch: ‘ + str(epoch) + ‘, learning rate: ‘ + str(lrate))\n",
    "    return lrate"
   ]
  },
  {
   "cell_type": "code",
   "execution_count": 177,
   "metadata": {},
   "outputs": [],
   "source": [
    "model = Sequential()\n",
    "model.add(layers.Dropout(0.3, input_shape=(n_col,)))\n",
    "model.add(layers.Dense(10, activation='selu', kernel_regularizer=regularizers.l2(0.001),\n",
    "                       kernel_initializer='he_normal',  kernel_constraint = maxnorm(5)))\n",
    "model.add(layers.Dense(2, activation='sigmoid')) "
   ]
  },
  {
   "cell_type": "code",
   "execution_count": 178,
   "metadata": {},
   "outputs": [],
   "source": [
    "# Compile model\n",
    "sgd = SGD(lr=0.0, momentum=0.9, decay=0.0, nesterov=False)"
   ]
  },
  {
   "cell_type": "code",
   "execution_count": 179,
   "metadata": {},
   "outputs": [],
   "source": [
    "model.compile(loss='mse', optimizer=sgd, metrics=['accuracy'])"
   ]
  },
  {
   "cell_type": "code",
   "execution_count": 180,
   "metadata": {},
   "outputs": [],
   "source": [
    "# Fit the model\n",
    "lrate = LearningRateScheduler(step_decay)\n",
    "callbacks_list = [lrate]"
   ]
  },
  {
   "cell_type": "code",
   "execution_count": 181,
   "metadata": {},
   "outputs": [
    {
     "data": {
      "text/plain": [
       "<keras.callbacks.callbacks.History at 0x2c30deb1c88>"
      ]
     },
     "execution_count": 181,
     "metadata": {},
     "output_type": "execute_result"
    }
   ],
   "source": [
    "model.fit(X_train, Y_train, epochs=100, callbacks = callbacks_list, verbose=0, \n",
    "            validation_data=(X_test,Y_test))"
   ]
  },
  {
   "cell_type": "code",
   "execution_count": 182,
   "metadata": {},
   "outputs": [],
   "source": [
    "predictions = model.predict(X_test) "
   ]
  },
  {
   "cell_type": "code",
   "execution_count": 183,
   "metadata": {},
   "outputs": [
    {
     "name": "stdout",
     "output_type": "stream",
     "text": [
      "The Spearman's correlation coefficient is: 0.434\n",
      "The Spearman's correlation coefficient is: 0.200\n"
     ]
    }
   ],
   "source": [
    "Get_score(predictions, Y_test)"
   ]
  },
  {
   "cell_type": "markdown",
   "metadata": {},
   "source": [
    "Out of the two techniques we got best results using \"Drop-based Learning Rate schedule\". So we will predict our final submission using this model."
   ]
  },
  {
   "cell_type": "markdown",
   "metadata": {},
   "source": [
    "## 8. Saving the model"
   ]
  },
  {
   "cell_type": "code",
   "execution_count": 163,
   "metadata": {},
   "outputs": [],
   "source": [
    "model.save('./final_model.h5')  # creates a HDF5 file 'my_model.h5'"
   ]
  },
  {
   "cell_type": "markdown",
   "metadata": {},
   "source": [
    "## 9. Creating final submission\n",
    "\n",
    "We will re-train our model by using full dev-set data and then use transform() to create X_test dataset which will be used to generate final predictions. We are using transform() instead of fit_transform() for tfidfvectorizer() because we don't want to change the shape of our X_test."
   ]
  },
  {
   "cell_type": "code",
   "execution_count": 164,
   "metadata": {},
   "outputs": [],
   "source": [
    "df,  captions_features= get_data()\n",
    "df['video'] = df['video'].apply(lambda x : x.split('.')[0])\n",
    "captions_features['video'] = captions_features['video'].apply(lambda x : x.split('.')[0])\n",
    "for line in df:\n",
    "    df['Captions'] = captions_features['Captions']\n",
    "corpus = clean_corpus(df)\n",
    "\n",
    "tf_cap = TfidfVectorizer()\n",
    "\n",
    "X = tf_cap.fit_transform(corpus).toarray()\n",
    "Y = df.iloc[:, 1:3].values\n",
    "\n",
    "n_col = X_train.shape[1]"
   ]
  },
  {
   "cell_type": "code",
   "execution_count": 165,
   "metadata": {},
   "outputs": [
    {
     "name": "stdout",
     "output_type": "stream",
     "text": [
      "Epoch 1/100\n",
      "6000/6000 [==============================] - 1s 130us/step - loss: 0.0134 - accuracy: 0.7048\n",
      "Epoch 2/100\n",
      "6000/6000 [==============================] - 1s 124us/step - loss: 0.0134 - accuracy: 0.7048\n",
      "Epoch 3/100\n",
      "6000/6000 [==============================] - 1s 126us/step - loss: 0.0134 - accuracy: 0.7048\n",
      "Epoch 4/100\n",
      "6000/6000 [==============================] - 1s 120us/step - loss: 0.0134 - accuracy: 0.7048\n",
      "Epoch 5/100\n",
      "6000/6000 [==============================] - 1s 122us/step - loss: 0.0134 - accuracy: 0.7048\n",
      "Epoch 6/100\n",
      "6000/6000 [==============================] - 1s 122us/step - loss: 0.0134 - accuracy: 0.7048\n",
      "Epoch 7/100\n",
      "6000/6000 [==============================] - 1s 122us/step - loss: 0.0134 - accuracy: 0.7048\n",
      "Epoch 8/100\n",
      "6000/6000 [==============================] - 1s 122us/step - loss: 0.0134 - accuracy: 0.7048\n",
      "Epoch 9/100\n",
      "6000/6000 [==============================] - 1s 123us/step - loss: 0.0134 - accuracy: 0.7048\n",
      "Epoch 10/100\n",
      "6000/6000 [==============================] - 1s 122us/step - loss: 0.0134 - accuracy: 0.7048\n",
      "Epoch 11/100\n",
      "6000/6000 [==============================] - 1s 121us/step - loss: 0.0134 - accuracy: 0.7048\n",
      "Epoch 12/100\n",
      "6000/6000 [==============================] - 1s 123us/step - loss: 0.0134 - accuracy: 0.7048\n",
      "Epoch 13/100\n",
      "6000/6000 [==============================] - 1s 124us/step - loss: 0.0134 - accuracy: 0.7048\n",
      "Epoch 14/100\n",
      "6000/6000 [==============================] - 1s 123us/step - loss: 0.0134 - accuracy: 0.7048\n",
      "Epoch 15/100\n",
      "6000/6000 [==============================] - 1s 122us/step - loss: 0.0134 - accuracy: 0.7048\n",
      "Epoch 16/100\n",
      "6000/6000 [==============================] - 1s 122us/step - loss: 0.0134 - accuracy: 0.7048\n",
      "Epoch 17/100\n",
      "6000/6000 [==============================] - 1s 121us/step - loss: 0.0134 - accuracy: 0.7048\n",
      "Epoch 18/100\n",
      "6000/6000 [==============================] - 1s 120us/step - loss: 0.0134 - accuracy: 0.7048\n",
      "Epoch 19/100\n",
      "6000/6000 [==============================] - 1s 123us/step - loss: 0.0134 - accuracy: 0.7048\n",
      "Epoch 20/100\n",
      "6000/6000 [==============================] - 1s 123us/step - loss: 0.0134 - accuracy: 0.7048\n",
      "Epoch 21/100\n",
      "6000/6000 [==============================] - 1s 121us/step - loss: 0.0134 - accuracy: 0.7048\n",
      "Epoch 22/100\n",
      "6000/6000 [==============================] - 1s 121us/step - loss: 0.0134 - accuracy: 0.7048\n",
      "Epoch 23/100\n",
      "6000/6000 [==============================] - 1s 124us/step - loss: 0.0134 - accuracy: 0.7048\n",
      "Epoch 24/100\n",
      "6000/6000 [==============================] - 1s 121us/step - loss: 0.0134 - accuracy: 0.7048\n",
      "Epoch 25/100\n",
      "6000/6000 [==============================] - 1s 120us/step - loss: 0.0134 - accuracy: 0.7048\n",
      "Epoch 26/100\n",
      "6000/6000 [==============================] - 1s 122us/step - loss: 0.0134 - accuracy: 0.7048\n",
      "Epoch 27/100\n",
      "6000/6000 [==============================] - 1s 122us/step - loss: 0.0134 - accuracy: 0.7048\n",
      "Epoch 28/100\n",
      "6000/6000 [==============================] - 1s 121us/step - loss: 0.0134 - accuracy: 0.7048\n",
      "Epoch 29/100\n",
      "6000/6000 [==============================] - 1s 123us/step - loss: 0.0134 - accuracy: 0.7048\n",
      "Epoch 30/100\n",
      "6000/6000 [==============================] - 1s 123us/step - loss: 0.0134 - accuracy: 0.7048\n",
      "Epoch 31/100\n",
      "6000/6000 [==============================] - 1s 121us/step - loss: 0.0134 - accuracy: 0.7048\n",
      "Epoch 32/100\n",
      "6000/6000 [==============================] - 1s 121us/step - loss: 0.0134 - accuracy: 0.7048\n",
      "Epoch 33/100\n",
      "6000/6000 [==============================] - 1s 122us/step - loss: 0.0134 - accuracy: 0.7048\n",
      "Epoch 34/100\n",
      "6000/6000 [==============================] - 1s 123us/step - loss: 0.0134 - accuracy: 0.7048\n",
      "Epoch 35/100\n",
      "6000/6000 [==============================] - 1s 120us/step - loss: 0.0134 - accuracy: 0.7048\n",
      "Epoch 36/100\n",
      "6000/6000 [==============================] - 1s 122us/step - loss: 0.0134 - accuracy: 0.7048\n",
      "Epoch 37/100\n",
      "6000/6000 [==============================] - 1s 122us/step - loss: 0.0134 - accuracy: 0.7048\n",
      "Epoch 38/100\n",
      "6000/6000 [==============================] - 1s 120us/step - loss: 0.0134 - accuracy: 0.7048\n",
      "Epoch 39/100\n",
      "6000/6000 [==============================] - 1s 127us/step - loss: 0.0134 - accuracy: 0.7048\n",
      "Epoch 40/100\n",
      "6000/6000 [==============================] - 1s 134us/step - loss: 0.0134 - accuracy: 0.7048\n",
      "Epoch 41/100\n",
      "6000/6000 [==============================] - 1s 126us/step - loss: 0.0134 - accuracy: 0.7048\n",
      "Epoch 42/100\n",
      "6000/6000 [==============================] - 1s 123us/step - loss: 0.0134 - accuracy: 0.7048\n",
      "Epoch 43/100\n",
      "6000/6000 [==============================] - 1s 123us/step - loss: 0.0134 - accuracy: 0.7048\n",
      "Epoch 44/100\n",
      "6000/6000 [==============================] - 1s 122us/step - loss: 0.0134 - accuracy: 0.7048\n",
      "Epoch 45/100\n",
      "6000/6000 [==============================] - 1s 122us/step - loss: 0.0134 - accuracy: 0.7048\n",
      "Epoch 46/100\n",
      "6000/6000 [==============================] - 1s 122us/step - loss: 0.0134 - accuracy: 0.7048\n",
      "Epoch 47/100\n",
      "6000/6000 [==============================] - 1s 122us/step - loss: 0.0134 - accuracy: 0.7048\n",
      "Epoch 48/100\n",
      "6000/6000 [==============================] - 1s 125us/step - loss: 0.0134 - accuracy: 0.7048\n",
      "Epoch 49/100\n",
      "6000/6000 [==============================] - 1s 120us/step - loss: 0.0134 - accuracy: 0.7048\n",
      "Epoch 50/100\n",
      "6000/6000 [==============================] - 1s 123us/step - loss: 0.0134 - accuracy: 0.7048\n",
      "Epoch 51/100\n",
      "6000/6000 [==============================] - 1s 128us/step - loss: 0.0134 - accuracy: 0.7048\n",
      "Epoch 52/100\n",
      "6000/6000 [==============================] - 1s 126us/step - loss: 0.0134 - accuracy: 0.7048\n",
      "Epoch 53/100\n",
      "6000/6000 [==============================] - 1s 125us/step - loss: 0.0134 - accuracy: 0.7048\n",
      "Epoch 54/100\n",
      "6000/6000 [==============================] - 1s 126us/step - loss: 0.0134 - accuracy: 0.7048\n",
      "Epoch 55/100\n",
      "6000/6000 [==============================] - 1s 125us/step - loss: 0.0134 - accuracy: 0.7048\n",
      "Epoch 56/100\n",
      "6000/6000 [==============================] - 1s 124us/step - loss: 0.0134 - accuracy: 0.7048\n",
      "Epoch 57/100\n",
      "6000/6000 [==============================] - 1s 126us/step - loss: 0.0134 - accuracy: 0.7048\n",
      "Epoch 58/100\n",
      "6000/6000 [==============================] - 1s 124us/step - loss: 0.0134 - accuracy: 0.7048\n",
      "Epoch 59/100\n",
      "6000/6000 [==============================] - 1s 124us/step - loss: 0.0134 - accuracy: 0.7048\n",
      "Epoch 60/100\n",
      "6000/6000 [==============================] - 1s 123us/step - loss: 0.0134 - accuracy: 0.7048\n",
      "Epoch 61/100\n",
      "6000/6000 [==============================] - 1s 127us/step - loss: 0.0134 - accuracy: 0.7048\n",
      "Epoch 62/100\n",
      "6000/6000 [==============================] - 1s 124us/step - loss: 0.0134 - accuracy: 0.7048\n",
      "Epoch 63/100\n",
      "6000/6000 [==============================] - 1s 123us/step - loss: 0.0134 - accuracy: 0.7048\n",
      "Epoch 64/100\n",
      "6000/6000 [==============================] - 1s 123us/step - loss: 0.0134 - accuracy: 0.7048\n",
      "Epoch 65/100\n",
      "6000/6000 [==============================] - 1s 125us/step - loss: 0.0134 - accuracy: 0.7048\n",
      "Epoch 66/100\n",
      "6000/6000 [==============================] - 1s 127us/step - loss: 0.0134 - accuracy: 0.7048\n",
      "Epoch 67/100\n",
      "6000/6000 [==============================] - 1s 122us/step - loss: 0.0134 - accuracy: 0.7048\n",
      "Epoch 68/100\n",
      "6000/6000 [==============================] - 1s 125us/step - loss: 0.0134 - accuracy: 0.7048\n",
      "Epoch 69/100\n",
      "6000/6000 [==============================] - 1s 126us/step - loss: 0.0134 - accuracy: 0.7048\n",
      "Epoch 70/100\n",
      "6000/6000 [==============================] - 1s 124us/step - loss: 0.0134 - accuracy: 0.7048\n",
      "Epoch 71/100\n",
      "6000/6000 [==============================] - 1s 123us/step - loss: 0.0134 - accuracy: 0.7048\n",
      "Epoch 72/100\n",
      "6000/6000 [==============================] - 1s 125us/step - loss: 0.0134 - accuracy: 0.7048\n",
      "Epoch 73/100\n",
      "6000/6000 [==============================] - 1s 124us/step - loss: 0.0134 - accuracy: 0.7048\n",
      "Epoch 74/100\n",
      "6000/6000 [==============================] - 1s 122us/step - loss: 0.0134 - accuracy: 0.7048\n",
      "Epoch 75/100\n",
      "6000/6000 [==============================] - 1s 127us/step - loss: 0.0134 - accuracy: 0.7048\n",
      "Epoch 76/100\n",
      "6000/6000 [==============================] - 1s 125us/step - loss: 0.0134 - accuracy: 0.7048\n",
      "Epoch 77/100\n",
      "6000/6000 [==============================] - 1s 126us/step - loss: 0.0134 - accuracy: 0.7048\n",
      "Epoch 78/100\n",
      "6000/6000 [==============================] - 1s 121us/step - loss: 0.0134 - accuracy: 0.7048\n",
      "Epoch 79/100\n",
      "6000/6000 [==============================] - 1s 127us/step - loss: 0.0134 - accuracy: 0.7048\n",
      "Epoch 80/100\n",
      "6000/6000 [==============================] - 1s 123us/step - loss: 0.0134 - accuracy: 0.7048\n",
      "Epoch 81/100\n",
      "6000/6000 [==============================] - 1s 121us/step - loss: 0.0134 - accuracy: 0.7048\n",
      "Epoch 82/100\n",
      "6000/6000 [==============================] - 1s 124us/step - loss: 0.0134 - accuracy: 0.7048\n",
      "Epoch 83/100\n",
      "6000/6000 [==============================] - 1s 123us/step - loss: 0.0134 - accuracy: 0.7048\n",
      "Epoch 84/100\n",
      "6000/6000 [==============================] - 1s 122us/step - loss: 0.0134 - accuracy: 0.7048\n",
      "Epoch 85/100\n",
      "6000/6000 [==============================] - 1s 121us/step - loss: 0.0134 - accuracy: 0.7048\n",
      "Epoch 86/100\n",
      "6000/6000 [==============================] - 1s 123us/step - loss: 0.0134 - accuracy: 0.7048\n",
      "Epoch 87/100\n",
      "6000/6000 [==============================] - 1s 124us/step - loss: 0.0134 - accuracy: 0.7048\n",
      "Epoch 88/100\n",
      "6000/6000 [==============================] - 1s 122us/step - loss: 0.0134 - accuracy: 0.7048\n",
      "Epoch 89/100\n",
      "6000/6000 [==============================] - 1s 123us/step - loss: 0.0134 - accuracy: 0.7048\n",
      "Epoch 90/100\n",
      "6000/6000 [==============================] - 1s 122us/step - loss: 0.0134 - accuracy: 0.7048\n",
      "Epoch 91/100\n",
      "6000/6000 [==============================] - 1s 125us/step - loss: 0.0134 - accuracy: 0.7048\n",
      "Epoch 92/100\n",
      "6000/6000 [==============================] - 1s 123us/step - loss: 0.0134 - accuracy: 0.7048\n",
      "Epoch 93/100\n",
      "6000/6000 [==============================] - 1s 124us/step - loss: 0.0134 - accuracy: 0.7048\n",
      "Epoch 94/100\n",
      "6000/6000 [==============================] - 1s 123us/step - loss: 0.0134 - accuracy: 0.7048\n",
      "Epoch 95/100\n",
      "6000/6000 [==============================] - 1s 121us/step - loss: 0.0134 - accuracy: 0.7048\n",
      "Epoch 96/100\n",
      "6000/6000 [==============================] - 1s 124us/step - loss: 0.0134 - accuracy: 0.7048\n",
      "Epoch 97/100\n",
      "6000/6000 [==============================] - 1s 123us/step - loss: 0.0134 - accuracy: 0.7048\n",
      "Epoch 98/100\n",
      "6000/6000 [==============================] - 1s 124us/step - loss: 0.0134 - accuracy: 0.7048\n",
      "Epoch 99/100\n",
      "6000/6000 [==============================] - 1s 123us/step - loss: 0.0134 - accuracy: 0.7048\n",
      "Epoch 100/100\n",
      "6000/6000 [==============================] - 1s 124us/step - loss: 0.0134 - accuracy: 0.7048\n"
     ]
    },
    {
     "data": {
      "text/plain": [
       "<keras.callbacks.callbacks.History at 0x256b3e019c8>"
      ]
     },
     "execution_count": 165,
     "metadata": {},
     "output_type": "execute_result"
    }
   ],
   "source": [
    "model.fit(X, Y, epochs=100)"
   ]
  },
  {
   "cell_type": "code",
   "execution_count": 166,
   "metadata": {},
   "outputs": [],
   "source": [
    "test_captions = pd.read_csv('test-set-1_video-captions.txt',delimiter='\\t',header= None,names=('video','Captions'))"
   ]
  },
  {
   "cell_type": "code",
   "execution_count": 167,
   "metadata": {},
   "outputs": [],
   "source": [
    "test_captions['video'] = test_captions['video'].apply(lambda x : x.split('.')[0])"
   ]
  },
  {
   "cell_type": "code",
   "execution_count": 168,
   "metadata": {},
   "outputs": [],
   "source": [
    "corpus = []\n",
    "for i in range(0, 2000):\n",
    "    caption = re.sub('[^a-zA-Z]', ' ', test_captions['Captions'][i])\n",
    "    caption = caption.lower()\n",
    "    caption = caption.split()\n",
    "    caption = [word for word in caption if not word in set(stopwords.words('english'))]\n",
    "    caption = ' '.join(caption)\n",
    "    corpus.append(caption)"
   ]
  },
  {
   "cell_type": "code",
   "execution_count": 169,
   "metadata": {},
   "outputs": [],
   "source": [
    "X = tf_cap.transform(corpus).toarray()\n",
    "Y = df.iloc[:, 1:3].values"
   ]
  },
  {
   "cell_type": "code",
   "execution_count": 170,
   "metadata": {},
   "outputs": [],
   "source": [
    "predictions = model.predict(X)"
   ]
  },
  {
   "cell_type": "code",
   "execution_count": 171,
   "metadata": {},
   "outputs": [
    {
     "data": {
      "text/plain": [
       "(2000, 2)"
      ]
     },
     "execution_count": 171,
     "metadata": {},
     "output_type": "execute_result"
    }
   ],
   "source": [
    "predictions.shape"
   ]
  },
  {
   "cell_type": "code",
   "execution_count": 172,
   "metadata": {},
   "outputs": [],
   "source": [
    "final_submission = pd.read_csv('ground_truth_template.csv')"
   ]
  },
  {
   "cell_type": "code",
   "execution_count": 173,
   "metadata": {},
   "outputs": [
    {
     "data": {
      "text/html": [
       "<div>\n",
       "<style scoped>\n",
       "    .dataframe tbody tr th:only-of-type {\n",
       "        vertical-align: middle;\n",
       "    }\n",
       "\n",
       "    .dataframe tbody tr th {\n",
       "        vertical-align: top;\n",
       "    }\n",
       "\n",
       "    .dataframe thead th {\n",
       "        text-align: right;\n",
       "    }\n",
       "</style>\n",
       "<table border=\"1\" class=\"dataframe\">\n",
       "  <thead>\n",
       "    <tr style=\"text-align: right;\">\n",
       "      <th></th>\n",
       "      <th>video</th>\n",
       "      <th>short-term_memorability</th>\n",
       "      <th>nb_short-term_annotations</th>\n",
       "      <th>long-term_memorability</th>\n",
       "      <th>nb_long-term_annotations</th>\n",
       "    </tr>\n",
       "  </thead>\n",
       "  <tbody>\n",
       "    <tr>\n",
       "      <th>0</th>\n",
       "      <td>7494</td>\n",
       "      <td>NaN</td>\n",
       "      <td>33</td>\n",
       "      <td>NaN</td>\n",
       "      <td>12</td>\n",
       "    </tr>\n",
       "    <tr>\n",
       "      <th>1</th>\n",
       "      <td>7495</td>\n",
       "      <td>NaN</td>\n",
       "      <td>34</td>\n",
       "      <td>NaN</td>\n",
       "      <td>10</td>\n",
       "    </tr>\n",
       "    <tr>\n",
       "      <th>2</th>\n",
       "      <td>7496</td>\n",
       "      <td>NaN</td>\n",
       "      <td>32</td>\n",
       "      <td>NaN</td>\n",
       "      <td>13</td>\n",
       "    </tr>\n",
       "    <tr>\n",
       "      <th>3</th>\n",
       "      <td>7497</td>\n",
       "      <td>NaN</td>\n",
       "      <td>33</td>\n",
       "      <td>NaN</td>\n",
       "      <td>10</td>\n",
       "    </tr>\n",
       "    <tr>\n",
       "      <th>4</th>\n",
       "      <td>7498</td>\n",
       "      <td>NaN</td>\n",
       "      <td>33</td>\n",
       "      <td>NaN</td>\n",
       "      <td>10</td>\n",
       "    </tr>\n",
       "  </tbody>\n",
       "</table>\n",
       "</div>"
      ],
      "text/plain": [
       "   video  short-term_memorability  nb_short-term_annotations  \\\n",
       "0   7494                      NaN                         33   \n",
       "1   7495                      NaN                         34   \n",
       "2   7496                      NaN                         32   \n",
       "3   7497                      NaN                         33   \n",
       "4   7498                      NaN                         33   \n",
       "\n",
       "   long-term_memorability  nb_long-term_annotations  \n",
       "0                     NaN                        12  \n",
       "1                     NaN                        10  \n",
       "2                     NaN                        13  \n",
       "3                     NaN                        10  \n",
       "4                     NaN                        10  "
      ]
     },
     "execution_count": 173,
     "metadata": {},
     "output_type": "execute_result"
    }
   ],
   "source": [
    "final_submission.head()"
   ]
  },
  {
   "cell_type": "code",
   "execution_count": 174,
   "metadata": {},
   "outputs": [],
   "source": [
    "final_submission['short-term_memorability'] = predictions[:, :1]\n",
    "final_submission['long-term_memorability'] = predictions[:, 1:]"
   ]
  },
  {
   "cell_type": "code",
   "execution_count": 175,
   "metadata": {},
   "outputs": [
    {
     "data": {
      "text/html": [
       "<div>\n",
       "<style scoped>\n",
       "    .dataframe tbody tr th:only-of-type {\n",
       "        vertical-align: middle;\n",
       "    }\n",
       "\n",
       "    .dataframe tbody tr th {\n",
       "        vertical-align: top;\n",
       "    }\n",
       "\n",
       "    .dataframe thead th {\n",
       "        text-align: right;\n",
       "    }\n",
       "</style>\n",
       "<table border=\"1\" class=\"dataframe\">\n",
       "  <thead>\n",
       "    <tr style=\"text-align: right;\">\n",
       "      <th></th>\n",
       "      <th>video</th>\n",
       "      <th>short-term_memorability</th>\n",
       "      <th>nb_short-term_annotations</th>\n",
       "      <th>long-term_memorability</th>\n",
       "      <th>nb_long-term_annotations</th>\n",
       "    </tr>\n",
       "  </thead>\n",
       "  <tbody>\n",
       "    <tr>\n",
       "      <th>0</th>\n",
       "      <td>7494</td>\n",
       "      <td>0.856241</td>\n",
       "      <td>33</td>\n",
       "      <td>0.766113</td>\n",
       "      <td>12</td>\n",
       "    </tr>\n",
       "    <tr>\n",
       "      <th>1</th>\n",
       "      <td>7495</td>\n",
       "      <td>0.855958</td>\n",
       "      <td>34</td>\n",
       "      <td>0.774394</td>\n",
       "      <td>10</td>\n",
       "    </tr>\n",
       "    <tr>\n",
       "      <th>2</th>\n",
       "      <td>7496</td>\n",
       "      <td>0.863338</td>\n",
       "      <td>32</td>\n",
       "      <td>0.787460</td>\n",
       "      <td>13</td>\n",
       "    </tr>\n",
       "    <tr>\n",
       "      <th>3</th>\n",
       "      <td>7497</td>\n",
       "      <td>0.860252</td>\n",
       "      <td>33</td>\n",
       "      <td>0.778751</td>\n",
       "      <td>10</td>\n",
       "    </tr>\n",
       "    <tr>\n",
       "      <th>4</th>\n",
       "      <td>7498</td>\n",
       "      <td>0.857380</td>\n",
       "      <td>33</td>\n",
       "      <td>0.766862</td>\n",
       "      <td>10</td>\n",
       "    </tr>\n",
       "  </tbody>\n",
       "</table>\n",
       "</div>"
      ],
      "text/plain": [
       "   video  short-term_memorability  nb_short-term_annotations  \\\n",
       "0   7494                 0.856241                         33   \n",
       "1   7495                 0.855958                         34   \n",
       "2   7496                 0.863338                         32   \n",
       "3   7497                 0.860252                         33   \n",
       "4   7498                 0.857380                         33   \n",
       "\n",
       "   long-term_memorability  nb_long-term_annotations  \n",
       "0                0.766113                        12  \n",
       "1                0.774394                        10  \n",
       "2                0.787460                        13  \n",
       "3                0.778751                        10  \n",
       "4                0.766862                        10  "
      ]
     },
     "execution_count": 175,
     "metadata": {},
     "output_type": "execute_result"
    }
   ],
   "source": [
    "final_submission.head()"
   ]
  },
  {
   "cell_type": "code",
   "execution_count": 179,
   "metadata": {},
   "outputs": [
    {
     "data": {
      "text/plain": [
       "(2000, 5)"
      ]
     },
     "execution_count": 179,
     "metadata": {},
     "output_type": "execute_result"
    }
   ],
   "source": [
    "final_submission.shape"
   ]
  },
  {
   "cell_type": "code",
   "execution_count": 180,
   "metadata": {},
   "outputs": [
    {
     "data": {
      "text/html": [
       "<div>\n",
       "<style scoped>\n",
       "    .dataframe tbody tr th:only-of-type {\n",
       "        vertical-align: middle;\n",
       "    }\n",
       "\n",
       "    .dataframe tbody tr th {\n",
       "        vertical-align: top;\n",
       "    }\n",
       "\n",
       "    .dataframe thead th {\n",
       "        text-align: right;\n",
       "    }\n",
       "</style>\n",
       "<table border=\"1\" class=\"dataframe\">\n",
       "  <thead>\n",
       "    <tr style=\"text-align: right;\">\n",
       "      <th></th>\n",
       "      <th>video</th>\n",
       "      <th>short-term_memorability</th>\n",
       "      <th>nb_short-term_annotations</th>\n",
       "      <th>long-term_memorability</th>\n",
       "      <th>nb_long-term_annotations</th>\n",
       "    </tr>\n",
       "  </thead>\n",
       "  <tbody>\n",
       "    <tr>\n",
       "      <th>1995</th>\n",
       "      <td>10004</td>\n",
       "      <td>0.859034</td>\n",
       "      <td>34</td>\n",
       "      <td>0.778440</td>\n",
       "      <td>17</td>\n",
       "    </tr>\n",
       "    <tr>\n",
       "      <th>1996</th>\n",
       "      <td>10005</td>\n",
       "      <td>0.861394</td>\n",
       "      <td>34</td>\n",
       "      <td>0.782710</td>\n",
       "      <td>9</td>\n",
       "    </tr>\n",
       "    <tr>\n",
       "      <th>1997</th>\n",
       "      <td>10006</td>\n",
       "      <td>0.863306</td>\n",
       "      <td>34</td>\n",
       "      <td>0.781532</td>\n",
       "      <td>12</td>\n",
       "    </tr>\n",
       "    <tr>\n",
       "      <th>1998</th>\n",
       "      <td>10007</td>\n",
       "      <td>0.862973</td>\n",
       "      <td>34</td>\n",
       "      <td>0.789883</td>\n",
       "      <td>12</td>\n",
       "    </tr>\n",
       "    <tr>\n",
       "      <th>1999</th>\n",
       "      <td>10008</td>\n",
       "      <td>0.866506</td>\n",
       "      <td>33</td>\n",
       "      <td>0.792543</td>\n",
       "      <td>10</td>\n",
       "    </tr>\n",
       "  </tbody>\n",
       "</table>\n",
       "</div>"
      ],
      "text/plain": [
       "      video  short-term_memorability  nb_short-term_annotations  \\\n",
       "1995  10004                 0.859034                         34   \n",
       "1996  10005                 0.861394                         34   \n",
       "1997  10006                 0.863306                         34   \n",
       "1998  10007                 0.862973                         34   \n",
       "1999  10008                 0.866506                         33   \n",
       "\n",
       "      long-term_memorability  nb_long-term_annotations  \n",
       "1995                0.778440                        17  \n",
       "1996                0.782710                         9  \n",
       "1997                0.781532                        12  \n",
       "1998                0.789883                        12  \n",
       "1999                0.792543                        10  "
      ]
     },
     "execution_count": 180,
     "metadata": {},
     "output_type": "execute_result"
    }
   ],
   "source": [
    "final_submission.tail()"
   ]
  },
  {
   "cell_type": "code",
   "execution_count": 181,
   "metadata": {},
   "outputs": [],
   "source": [
    "final_submission.to_csv('final_submission.csv')"
   ]
  },
  {
   "cell_type": "code",
   "execution_count": null,
   "metadata": {},
   "outputs": [],
   "source": []
  }
 ],
 "metadata": {
  "colab": {
   "authorship_tag": "ABX9TyMLMYblnR1y76Xr2WTGvutT",
   "collapsed_sections": [],
   "name": "Final_Notebook.ipynb",
   "provenance": []
  },
  "kernelspec": {
   "display_name": "Python 3",
   "language": "python",
   "name": "python3"
  },
  "language_info": {
   "codemirror_mode": {
    "name": "ipython",
    "version": 3
   },
   "file_extension": ".py",
   "mimetype": "text/x-python",
   "name": "python",
   "nbconvert_exporter": "python",
   "pygments_lexer": "ipython3",
   "version": "3.7.6"
  }
 },
 "nbformat": 4,
 "nbformat_minor": 1
}
